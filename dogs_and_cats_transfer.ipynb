{
  "nbformat": 4,
  "nbformat_minor": 0,
  "metadata": {
    "accelerator": "GPU",
    "colab": {
      "name": "dogs_and_cats_transfer",
      "version": "0.3.2",
      "provenance": [],
      "collapsed_sections": [],
      "toc_visible": true,
      "include_colab_link": true
    },
    "kernelspec": {
      "name": "python3",
      "display_name": "Python 3"
    }
  },
  "cells": [
    {
      "cell_type": "markdown",
      "metadata": {
        "id": "view-in-github",
        "colab_type": "text"
      },
      "source": [
        "<a href=\"https://colab.research.google.com/github/jeyoor/iusb-applied-deep-learning-lecture/blob/feature%2F2019-09-18-lecture/dogs_and_cats_transfer.ipynb\" target=\"_parent\"><img src=\"https://colab.research.google.com/assets/colab-badge.svg\" alt=\"Open In Colab\"/></a>"
      ]
    },
    {
      "cell_type": "markdown",
      "metadata": {
        "id": "1OzZp2rN2RvD",
        "colab_type": "text"
      },
      "source": [
        "## Dogs and Cats (Transfer Learning)"
      ]
    },
    {
      "cell_type": "markdown",
      "metadata": {
        "id": "rUWWwCSssR2l",
        "colab_type": "text"
      },
      "source": [
        "Compatability between Python2 and Python3"
      ]
    },
    {
      "cell_type": "code",
      "metadata": {
        "id": "hpeFsl61sO6m",
        "colab_type": "code",
        "colab": {}
      },
      "source": [
        "from __future__ import print_function"
      ],
      "execution_count": 0,
      "outputs": []
    },
    {
      "cell_type": "markdown",
      "metadata": {
        "id": "Q6_zOAxuEY_w",
        "colab_type": "text"
      },
      "source": [
        "Extract training data (requires tarball to be available)"
      ]
    },
    {
      "cell_type": "code",
      "metadata": {
        "id": "3OMFT8pTyVsr",
        "colab_type": "code",
        "colab": {}
      },
      "source": [
        "from six.moves import urllib\n",
        "import tarfile\n",
        "urllib.request.urlretrieve('https://github.com/jeyoor/iusb-applied-deep-learning-lecture/raw/master/dogs_cats_data_edited.tgz', 'dogs_cats_data_edited.tgz')\n",
        "data_tarball = tarfile.open('/content/dogs_cats_data_edited.tgz', 'r:gz')\n",
        "data_tarball.extractall()\n",
        "data_tarball.close()\n"
      ],
      "execution_count": 0,
      "outputs": []
    },
    {
      "cell_type": "markdown",
      "metadata": {
        "id": "O4AdL3AP0pJO",
        "colab_type": "text"
      },
      "source": [
        "Imports and helpers we'll use later"
      ]
    },
    {
      "cell_type": "code",
      "metadata": {
        "id": "8A78EMFh03sk",
        "colab_type": "code",
        "outputId": "f076f81e-0664-4b91-cc42-cfcfffb970d5",
        "colab": {
          "base_uri": "https://localhost:8080/",
          "height": 34
        }
      },
      "source": [
        "import os\n",
        "import time as t\n",
        "import numpy as np\n",
        "import pandas as pd\n",
        "import matplotlib\n",
        "%matplotlib inline\n",
        "import matplotlib.pyplot as plt\n",
        "import sklearn.metrics as skmetrics\n",
        "\n",
        "from keras.applications.vgg16 import VGG16\n",
        "from keras.applications.xception import Xception\n",
        "from keras.applications.resnet50 import ResNet50\n",
        "\n",
        "from keras.models import Model\n",
        "from keras.layers import Dense\n",
        "from keras.optimizers import SGD\n",
        "from keras.callbacks import CSVLogger, ModelCheckpoint\n",
        "from keras.preprocessing.image import ImageDataGenerator, array_to_img\n",
        "\n",
        "def preprocess_input_vgg(x):\n",
        "    \"\"\"Wrapper around keras.applications.vgg16.preprocess_input()\n",
        "    to make it compatible for use with keras.preprocessing.image.ImageDataGenerator's\n",
        "    `preprocessing_function` argument.\n",
        "    \n",
        "    Parameters\n",
        "    ----------\n",
        "    x : a numpy 3darray (a single image to be preprocessed)\n",
        "    \n",
        "    Note we cannot pass keras.applications.vgg16.preprocess_input()\n",
        "    directly to to keras.preprocessing.image.ImageDataGenerator's\n",
        "    `preprocessing_function` argument because the former expects a\n",
        "    4D tensor whereas the latter expects a 3D tensor. Hence the\n",
        "    existence of this wrapper.\n",
        "    \n",
        "    Returns a numpy 3darray (the preprocessed image).\n",
        "    \n",
        "    \"\"\"\n",
        "    from keras.applications.vgg16 import preprocess_input\n",
        "    X = np.expand_dims(x, axis=0)\n",
        "    X = preprocess_input(X)\n",
        "    return X[0]\n"
      ],
      "execution_count": 4,
      "outputs": [
        {
          "output_type": "stream",
          "text": [
            "Using TensorFlow backend.\n"
          ],
          "name": "stderr"
        }
      ]
    },
    {
      "cell_type": "markdown",
      "metadata": {
        "id": "toFwW1Er05mY",
        "colab_type": "text"
      },
      "source": [
        "For more information on the meaning of some of the constants below, see these links.\n",
        "\n",
        "[Keras fit_generator documentation](https://keras.io/models/sequential/#fit_generator)\n",
        "\n",
        "[StackExchange CrossValidated Question: \"Tradeoff batch size vs. number of iterations\"](https://stats.stackexchange.com/questions/164876/tradeoff-batch-size-vs-number-of-iterations-to-train-a-neural-network)\n",
        "\n",
        "[StackExchange CrossValidated Question: \"What is batch size in neural network?\"](https://stats.stackexchange.com/questions/153531/what-is-batch-size-in-neural-network)"
      ]
    },
    {
      "cell_type": "code",
      "metadata": {
        "id": "mFFldZ3P03S_",
        "colab_type": "code",
        "colab": {}
      },
      "source": [
        "#create constants\n",
        "SAMPLES_PER_EPOCH = 16\n",
        "#using 10 epochs for training test\n",
        "EPOCHS = 10\n",
        "STEPS_PER_EPOCH = 1\n",
        "VALIDATION_STEPS = 32\n",
        "#dump full model to disk every 10 epochs\n",
        "MODEL_SAVER_PERIOD = EPOCHS / 10"
      ],
      "execution_count": 0,
      "outputs": []
    },
    {
      "cell_type": "markdown",
      "metadata": {
        "id": "Bbn_Ia-_1D40",
        "colab_type": "text"
      },
      "source": [
        "Creating data generators (note that training data generator is augmenting the training data, but the validation data generator is not augmenting)"
      ]
    },
    {
      "cell_type": "code",
      "metadata": {
        "id": "NsV22C9V1Rsz",
        "colab_type": "code",
        "outputId": "0872889e-d95a-4f1b-957f-ce98ac06b226",
        "colab": {
          "base_uri": "https://localhost:8080/",
          "height": 52
        }
      },
      "source": [
        "#create training and validation data generators\n",
        "train_datagen = ImageDataGenerator(preprocessing_function=preprocess_input_vgg,\n",
        "                                   rotation_range=40,\n",
        "                                   width_shift_range=0.2,\n",
        "                                   height_shift_range=0.2,\n",
        "                                   shear_range=0.2,\n",
        "                                   zoom_range=0.2,\n",
        "                                   horizontal_flip=True,\n",
        "                                   fill_mode='nearest')\n",
        "train_generator = train_datagen.flow_from_directory(directory='data/train',\n",
        "                                                    target_size=[224, 224],\n",
        "                                                    batch_size=SAMPLES_PER_EPOCH,\n",
        "                                                    class_mode='binary')\n",
        "\n",
        "validation_datagen = ImageDataGenerator(preprocessing_function=preprocess_input_vgg)\n",
        "validation_generator = validation_datagen.flow_from_directory(directory='data/validation',\n",
        "                                                              target_size=[224, 224],\n",
        "                                                              batch_size=SAMPLES_PER_EPOCH,\n",
        "                                                              class_mode='binary')"
      ],
      "execution_count": 0,
      "outputs": [
        {
          "output_type": "stream",
          "text": [
            "Found 2000 images belonging to 2 classes.\n",
            "Found 800 images belonging to 2 classes.\n"
          ],
          "name": "stdout"
        }
      ]
    },
    {
      "cell_type": "markdown",
      "metadata": {
        "id": "qa_wcmBz1Z0b",
        "colab_type": "text"
      },
      "source": [
        "Load models (VGG16, and ResNet50) with weights that were trained on the imagenet dataset\n",
        "\n",
        "Keras source code for these models is available [here](https://github.com/keras-team/keras-applications/tree/master/keras_applications)\n",
        "\n",
        "Don't forget to switch the branch to your current Keras version.\n"
      ]
    },
    {
      "cell_type": "code",
      "metadata": {
        "id": "LaZirhxn2jaR",
        "colab_type": "code",
        "outputId": "6726f090-83e3-40b0-a0c6-d19142c56d49",
        "colab": {
          "base_uri": "https://localhost:8080/",
          "height": 350
        }
      },
      "source": [
        "#initialize existing application nets\n",
        "vgg16 = VGG16(weights='imagenet')\n",
        "resnet50 = ResNet50(weights='imagenet')"
      ],
      "execution_count": 0,
      "outputs": [
        {
          "output_type": "stream",
          "text": [
            "WARNING:tensorflow:From /usr/local/lib/python3.6/dist-packages/keras/backend/tensorflow_backend.py:66: The name tf.get_default_graph is deprecated. Please use tf.compat.v1.get_default_graph instead.\n",
            "\n",
            "WARNING:tensorflow:From /usr/local/lib/python3.6/dist-packages/keras/backend/tensorflow_backend.py:541: The name tf.placeholder is deprecated. Please use tf.compat.v1.placeholder instead.\n",
            "\n",
            "WARNING:tensorflow:From /usr/local/lib/python3.6/dist-packages/keras/backend/tensorflow_backend.py:4432: The name tf.random_uniform is deprecated. Please use tf.random.uniform instead.\n",
            "\n",
            "WARNING:tensorflow:From /usr/local/lib/python3.6/dist-packages/keras/backend/tensorflow_backend.py:4267: The name tf.nn.max_pool is deprecated. Please use tf.nn.max_pool2d instead.\n",
            "\n",
            "Downloading data from https://github.com/fchollet/deep-learning-models/releases/download/v0.1/vgg16_weights_tf_dim_ordering_tf_kernels.h5\n",
            "553467904/553467096 [==============================] - 122s 0us/step\n",
            "WARNING:tensorflow:From /usr/local/lib/python3.6/dist-packages/keras/backend/tensorflow_backend.py:190: The name tf.get_default_session is deprecated. Please use tf.compat.v1.get_default_session instead.\n",
            "\n",
            "WARNING:tensorflow:From /usr/local/lib/python3.6/dist-packages/keras/backend/tensorflow_backend.py:197: The name tf.ConfigProto is deprecated. Please use tf.compat.v1.ConfigProto instead.\n",
            "\n",
            "WARNING:tensorflow:From /usr/local/lib/python3.6/dist-packages/keras/backend/tensorflow_backend.py:2041: The name tf.nn.fused_batch_norm is deprecated. Please use tf.compat.v1.nn.fused_batch_norm instead.\n",
            "\n",
            "Downloading data from https://github.com/fchollet/deep-learning-models/releases/download/v0.2/resnet50_weights_tf_dim_ordering_tf_kernels.h5\n",
            "102858752/102853048 [==============================] - 9s 0us/step\n"
          ],
          "name": "stdout"
        }
      ]
    },
    {
      "cell_type": "markdown",
      "metadata": {
        "id": "IJ6KONHRCphw",
        "colab_type": "text"
      },
      "source": [
        "Print a summary of the layers of each model.\n",
        "\n",
        "For explanation of why the various layers are used for each model, see their individual research papers.\n",
        "\n",
        "[Xception](https://arxiv.org/abs/1610.02357)\n",
        "\n",
        "[VGG16](https://arxiv.org/abs/1610.02357)\n",
        "\n",
        "[ResNet-50](https://arxiv.org/abs/1512.03385)\n",
        "\n",
        "For more recent state of the art results on tasks like ImageNet, the \"[Papers With Code](https://paperswithcode.com/sota/image-classification-on-imagenet)\" site is a good resource.\n"
      ]
    },
    {
      "cell_type": "code",
      "metadata": {
        "id": "Rc6aVGT875Qm",
        "colab_type": "code",
        "outputId": "aa52af9a-a015-41b6-e9c5-323713502249",
        "colab": {
          "base_uri": "https://localhost:8080/",
          "height": 1000
        }
      },
      "source": [
        "vgg16.summary()\n",
        "resnet50.summary()"
      ],
      "execution_count": 0,
      "outputs": [
        {
          "output_type": "stream",
          "text": [
            "Model: \"vgg16\"\n",
            "_________________________________________________________________\n",
            "Layer (type)                 Output Shape              Param #   \n",
            "=================================================================\n",
            "input_1 (InputLayer)         (None, 224, 224, 3)       0         \n",
            "_________________________________________________________________\n",
            "block1_conv1 (Conv2D)        (None, 224, 224, 64)      1792      \n",
            "_________________________________________________________________\n",
            "block1_conv2 (Conv2D)        (None, 224, 224, 64)      36928     \n",
            "_________________________________________________________________\n",
            "block1_pool (MaxPooling2D)   (None, 112, 112, 64)      0         \n",
            "_________________________________________________________________\n",
            "block2_conv1 (Conv2D)        (None, 112, 112, 128)     73856     \n",
            "_________________________________________________________________\n",
            "block2_conv2 (Conv2D)        (None, 112, 112, 128)     147584    \n",
            "_________________________________________________________________\n",
            "block2_pool (MaxPooling2D)   (None, 56, 56, 128)       0         \n",
            "_________________________________________________________________\n",
            "block3_conv1 (Conv2D)        (None, 56, 56, 256)       295168    \n",
            "_________________________________________________________________\n",
            "block3_conv2 (Conv2D)        (None, 56, 56, 256)       590080    \n",
            "_________________________________________________________________\n",
            "block3_conv3 (Conv2D)        (None, 56, 56, 256)       590080    \n",
            "_________________________________________________________________\n",
            "block3_pool (MaxPooling2D)   (None, 28, 28, 256)       0         \n",
            "_________________________________________________________________\n",
            "block4_conv1 (Conv2D)        (None, 28, 28, 512)       1180160   \n",
            "_________________________________________________________________\n",
            "block4_conv2 (Conv2D)        (None, 28, 28, 512)       2359808   \n",
            "_________________________________________________________________\n",
            "block4_conv3 (Conv2D)        (None, 28, 28, 512)       2359808   \n",
            "_________________________________________________________________\n",
            "block4_pool (MaxPooling2D)   (None, 14, 14, 512)       0         \n",
            "_________________________________________________________________\n",
            "block5_conv1 (Conv2D)        (None, 14, 14, 512)       2359808   \n",
            "_________________________________________________________________\n",
            "block5_conv2 (Conv2D)        (None, 14, 14, 512)       2359808   \n",
            "_________________________________________________________________\n",
            "block5_conv3 (Conv2D)        (None, 14, 14, 512)       2359808   \n",
            "_________________________________________________________________\n",
            "block5_pool (MaxPooling2D)   (None, 7, 7, 512)         0         \n",
            "_________________________________________________________________\n",
            "flatten (Flatten)            (None, 25088)             0         \n",
            "_________________________________________________________________\n",
            "fc1 (Dense)                  (None, 4096)              102764544 \n",
            "_________________________________________________________________\n",
            "fc2 (Dense)                  (None, 4096)              16781312  \n",
            "_________________________________________________________________\n",
            "predictions (Dense)          (None, 1000)              4097000   \n",
            "=================================================================\n",
            "Total params: 138,357,544\n",
            "Trainable params: 138,357,544\n",
            "Non-trainable params: 0\n",
            "_________________________________________________________________\n",
            "Model: \"resnet50\"\n",
            "__________________________________________________________________________________________________\n",
            "Layer (type)                    Output Shape         Param #     Connected to                     \n",
            "==================================================================================================\n",
            "input_2 (InputLayer)            (None, 224, 224, 3)  0                                            \n",
            "__________________________________________________________________________________________________\n",
            "conv1_pad (ZeroPadding2D)       (None, 230, 230, 3)  0           input_2[0][0]                    \n",
            "__________________________________________________________________________________________________\n",
            "conv1 (Conv2D)                  (None, 112, 112, 64) 9472        conv1_pad[0][0]                  \n",
            "__________________________________________________________________________________________________\n",
            "bn_conv1 (BatchNormalization)   (None, 112, 112, 64) 256         conv1[0][0]                      \n",
            "__________________________________________________________________________________________________\n",
            "activation_1 (Activation)       (None, 112, 112, 64) 0           bn_conv1[0][0]                   \n",
            "__________________________________________________________________________________________________\n",
            "pool1_pad (ZeroPadding2D)       (None, 114, 114, 64) 0           activation_1[0][0]               \n",
            "__________________________________________________________________________________________________\n",
            "max_pooling2d_1 (MaxPooling2D)  (None, 56, 56, 64)   0           pool1_pad[0][0]                  \n",
            "__________________________________________________________________________________________________\n",
            "res2a_branch2a (Conv2D)         (None, 56, 56, 64)   4160        max_pooling2d_1[0][0]            \n",
            "__________________________________________________________________________________________________\n",
            "bn2a_branch2a (BatchNormalizati (None, 56, 56, 64)   256         res2a_branch2a[0][0]             \n",
            "__________________________________________________________________________________________________\n",
            "activation_2 (Activation)       (None, 56, 56, 64)   0           bn2a_branch2a[0][0]              \n",
            "__________________________________________________________________________________________________\n",
            "res2a_branch2b (Conv2D)         (None, 56, 56, 64)   36928       activation_2[0][0]               \n",
            "__________________________________________________________________________________________________\n",
            "bn2a_branch2b (BatchNormalizati (None, 56, 56, 64)   256         res2a_branch2b[0][0]             \n",
            "__________________________________________________________________________________________________\n",
            "activation_3 (Activation)       (None, 56, 56, 64)   0           bn2a_branch2b[0][0]              \n",
            "__________________________________________________________________________________________________\n",
            "res2a_branch2c (Conv2D)         (None, 56, 56, 256)  16640       activation_3[0][0]               \n",
            "__________________________________________________________________________________________________\n",
            "res2a_branch1 (Conv2D)          (None, 56, 56, 256)  16640       max_pooling2d_1[0][0]            \n",
            "__________________________________________________________________________________________________\n",
            "bn2a_branch2c (BatchNormalizati (None, 56, 56, 256)  1024        res2a_branch2c[0][0]             \n",
            "__________________________________________________________________________________________________\n",
            "bn2a_branch1 (BatchNormalizatio (None, 56, 56, 256)  1024        res2a_branch1[0][0]              \n",
            "__________________________________________________________________________________________________\n",
            "add_1 (Add)                     (None, 56, 56, 256)  0           bn2a_branch2c[0][0]              \n",
            "                                                                 bn2a_branch1[0][0]               \n",
            "__________________________________________________________________________________________________\n",
            "activation_4 (Activation)       (None, 56, 56, 256)  0           add_1[0][0]                      \n",
            "__________________________________________________________________________________________________\n",
            "res2b_branch2a (Conv2D)         (None, 56, 56, 64)   16448       activation_4[0][0]               \n",
            "__________________________________________________________________________________________________\n",
            "bn2b_branch2a (BatchNormalizati (None, 56, 56, 64)   256         res2b_branch2a[0][0]             \n",
            "__________________________________________________________________________________________________\n",
            "activation_5 (Activation)       (None, 56, 56, 64)   0           bn2b_branch2a[0][0]              \n",
            "__________________________________________________________________________________________________\n",
            "res2b_branch2b (Conv2D)         (None, 56, 56, 64)   36928       activation_5[0][0]               \n",
            "__________________________________________________________________________________________________\n",
            "bn2b_branch2b (BatchNormalizati (None, 56, 56, 64)   256         res2b_branch2b[0][0]             \n",
            "__________________________________________________________________________________________________\n",
            "activation_6 (Activation)       (None, 56, 56, 64)   0           bn2b_branch2b[0][0]              \n",
            "__________________________________________________________________________________________________\n",
            "res2b_branch2c (Conv2D)         (None, 56, 56, 256)  16640       activation_6[0][0]               \n",
            "__________________________________________________________________________________________________\n",
            "bn2b_branch2c (BatchNormalizati (None, 56, 56, 256)  1024        res2b_branch2c[0][0]             \n",
            "__________________________________________________________________________________________________\n",
            "add_2 (Add)                     (None, 56, 56, 256)  0           bn2b_branch2c[0][0]              \n",
            "                                                                 activation_4[0][0]               \n",
            "__________________________________________________________________________________________________\n",
            "activation_7 (Activation)       (None, 56, 56, 256)  0           add_2[0][0]                      \n",
            "__________________________________________________________________________________________________\n",
            "res2c_branch2a (Conv2D)         (None, 56, 56, 64)   16448       activation_7[0][0]               \n",
            "__________________________________________________________________________________________________\n",
            "bn2c_branch2a (BatchNormalizati (None, 56, 56, 64)   256         res2c_branch2a[0][0]             \n",
            "__________________________________________________________________________________________________\n",
            "activation_8 (Activation)       (None, 56, 56, 64)   0           bn2c_branch2a[0][0]              \n",
            "__________________________________________________________________________________________________\n",
            "res2c_branch2b (Conv2D)         (None, 56, 56, 64)   36928       activation_8[0][0]               \n",
            "__________________________________________________________________________________________________\n",
            "bn2c_branch2b (BatchNormalizati (None, 56, 56, 64)   256         res2c_branch2b[0][0]             \n",
            "__________________________________________________________________________________________________\n",
            "activation_9 (Activation)       (None, 56, 56, 64)   0           bn2c_branch2b[0][0]              \n",
            "__________________________________________________________________________________________________\n",
            "res2c_branch2c (Conv2D)         (None, 56, 56, 256)  16640       activation_9[0][0]               \n",
            "__________________________________________________________________________________________________\n",
            "bn2c_branch2c (BatchNormalizati (None, 56, 56, 256)  1024        res2c_branch2c[0][0]             \n",
            "__________________________________________________________________________________________________\n",
            "add_3 (Add)                     (None, 56, 56, 256)  0           bn2c_branch2c[0][0]              \n",
            "                                                                 activation_7[0][0]               \n",
            "__________________________________________________________________________________________________\n",
            "activation_10 (Activation)      (None, 56, 56, 256)  0           add_3[0][0]                      \n",
            "__________________________________________________________________________________________________\n",
            "res3a_branch2a (Conv2D)         (None, 28, 28, 128)  32896       activation_10[0][0]              \n",
            "__________________________________________________________________________________________________\n",
            "bn3a_branch2a (BatchNormalizati (None, 28, 28, 128)  512         res3a_branch2a[0][0]             \n",
            "__________________________________________________________________________________________________\n",
            "activation_11 (Activation)      (None, 28, 28, 128)  0           bn3a_branch2a[0][0]              \n",
            "__________________________________________________________________________________________________\n",
            "res3a_branch2b (Conv2D)         (None, 28, 28, 128)  147584      activation_11[0][0]              \n",
            "__________________________________________________________________________________________________\n",
            "bn3a_branch2b (BatchNormalizati (None, 28, 28, 128)  512         res3a_branch2b[0][0]             \n",
            "__________________________________________________________________________________________________\n",
            "activation_12 (Activation)      (None, 28, 28, 128)  0           bn3a_branch2b[0][0]              \n",
            "__________________________________________________________________________________________________\n",
            "res3a_branch2c (Conv2D)         (None, 28, 28, 512)  66048       activation_12[0][0]              \n",
            "__________________________________________________________________________________________________\n",
            "res3a_branch1 (Conv2D)          (None, 28, 28, 512)  131584      activation_10[0][0]              \n",
            "__________________________________________________________________________________________________\n",
            "bn3a_branch2c (BatchNormalizati (None, 28, 28, 512)  2048        res3a_branch2c[0][0]             \n",
            "__________________________________________________________________________________________________\n",
            "bn3a_branch1 (BatchNormalizatio (None, 28, 28, 512)  2048        res3a_branch1[0][0]              \n",
            "__________________________________________________________________________________________________\n",
            "add_4 (Add)                     (None, 28, 28, 512)  0           bn3a_branch2c[0][0]              \n",
            "                                                                 bn3a_branch1[0][0]               \n",
            "__________________________________________________________________________________________________\n",
            "activation_13 (Activation)      (None, 28, 28, 512)  0           add_4[0][0]                      \n",
            "__________________________________________________________________________________________________\n",
            "res3b_branch2a (Conv2D)         (None, 28, 28, 128)  65664       activation_13[0][0]              \n",
            "__________________________________________________________________________________________________\n",
            "bn3b_branch2a (BatchNormalizati (None, 28, 28, 128)  512         res3b_branch2a[0][0]             \n",
            "__________________________________________________________________________________________________\n",
            "activation_14 (Activation)      (None, 28, 28, 128)  0           bn3b_branch2a[0][0]              \n",
            "__________________________________________________________________________________________________\n",
            "res3b_branch2b (Conv2D)         (None, 28, 28, 128)  147584      activation_14[0][0]              \n",
            "__________________________________________________________________________________________________\n",
            "bn3b_branch2b (BatchNormalizati (None, 28, 28, 128)  512         res3b_branch2b[0][0]             \n",
            "__________________________________________________________________________________________________\n",
            "activation_15 (Activation)      (None, 28, 28, 128)  0           bn3b_branch2b[0][0]              \n",
            "__________________________________________________________________________________________________\n",
            "res3b_branch2c (Conv2D)         (None, 28, 28, 512)  66048       activation_15[0][0]              \n",
            "__________________________________________________________________________________________________\n",
            "bn3b_branch2c (BatchNormalizati (None, 28, 28, 512)  2048        res3b_branch2c[0][0]             \n",
            "__________________________________________________________________________________________________\n",
            "add_5 (Add)                     (None, 28, 28, 512)  0           bn3b_branch2c[0][0]              \n",
            "                                                                 activation_13[0][0]              \n",
            "__________________________________________________________________________________________________\n",
            "activation_16 (Activation)      (None, 28, 28, 512)  0           add_5[0][0]                      \n",
            "__________________________________________________________________________________________________\n",
            "res3c_branch2a (Conv2D)         (None, 28, 28, 128)  65664       activation_16[0][0]              \n",
            "__________________________________________________________________________________________________\n",
            "bn3c_branch2a (BatchNormalizati (None, 28, 28, 128)  512         res3c_branch2a[0][0]             \n",
            "__________________________________________________________________________________________________\n",
            "activation_17 (Activation)      (None, 28, 28, 128)  0           bn3c_branch2a[0][0]              \n",
            "__________________________________________________________________________________________________\n",
            "res3c_branch2b (Conv2D)         (None, 28, 28, 128)  147584      activation_17[0][0]              \n",
            "__________________________________________________________________________________________________\n",
            "bn3c_branch2b (BatchNormalizati (None, 28, 28, 128)  512         res3c_branch2b[0][0]             \n",
            "__________________________________________________________________________________________________\n",
            "activation_18 (Activation)      (None, 28, 28, 128)  0           bn3c_branch2b[0][0]              \n",
            "__________________________________________________________________________________________________\n",
            "res3c_branch2c (Conv2D)         (None, 28, 28, 512)  66048       activation_18[0][0]              \n",
            "__________________________________________________________________________________________________\n",
            "bn3c_branch2c (BatchNormalizati (None, 28, 28, 512)  2048        res3c_branch2c[0][0]             \n",
            "__________________________________________________________________________________________________\n",
            "add_6 (Add)                     (None, 28, 28, 512)  0           bn3c_branch2c[0][0]              \n",
            "                                                                 activation_16[0][0]              \n",
            "__________________________________________________________________________________________________\n",
            "activation_19 (Activation)      (None, 28, 28, 512)  0           add_6[0][0]                      \n",
            "__________________________________________________________________________________________________\n",
            "res3d_branch2a (Conv2D)         (None, 28, 28, 128)  65664       activation_19[0][0]              \n",
            "__________________________________________________________________________________________________\n",
            "bn3d_branch2a (BatchNormalizati (None, 28, 28, 128)  512         res3d_branch2a[0][0]             \n",
            "__________________________________________________________________________________________________\n",
            "activation_20 (Activation)      (None, 28, 28, 128)  0           bn3d_branch2a[0][0]              \n",
            "__________________________________________________________________________________________________\n",
            "res3d_branch2b (Conv2D)         (None, 28, 28, 128)  147584      activation_20[0][0]              \n",
            "__________________________________________________________________________________________________\n",
            "bn3d_branch2b (BatchNormalizati (None, 28, 28, 128)  512         res3d_branch2b[0][0]             \n",
            "__________________________________________________________________________________________________\n",
            "activation_21 (Activation)      (None, 28, 28, 128)  0           bn3d_branch2b[0][0]              \n",
            "__________________________________________________________________________________________________\n",
            "res3d_branch2c (Conv2D)         (None, 28, 28, 512)  66048       activation_21[0][0]              \n",
            "__________________________________________________________________________________________________\n",
            "bn3d_branch2c (BatchNormalizati (None, 28, 28, 512)  2048        res3d_branch2c[0][0]             \n",
            "__________________________________________________________________________________________________\n",
            "add_7 (Add)                     (None, 28, 28, 512)  0           bn3d_branch2c[0][0]              \n",
            "                                                                 activation_19[0][0]              \n",
            "__________________________________________________________________________________________________\n",
            "activation_22 (Activation)      (None, 28, 28, 512)  0           add_7[0][0]                      \n",
            "__________________________________________________________________________________________________\n",
            "res4a_branch2a (Conv2D)         (None, 14, 14, 256)  131328      activation_22[0][0]              \n",
            "__________________________________________________________________________________________________\n",
            "bn4a_branch2a (BatchNormalizati (None, 14, 14, 256)  1024        res4a_branch2a[0][0]             \n",
            "__________________________________________________________________________________________________\n",
            "activation_23 (Activation)      (None, 14, 14, 256)  0           bn4a_branch2a[0][0]              \n",
            "__________________________________________________________________________________________________\n",
            "res4a_branch2b (Conv2D)         (None, 14, 14, 256)  590080      activation_23[0][0]              \n",
            "__________________________________________________________________________________________________\n",
            "bn4a_branch2b (BatchNormalizati (None, 14, 14, 256)  1024        res4a_branch2b[0][0]             \n",
            "__________________________________________________________________________________________________\n",
            "activation_24 (Activation)      (None, 14, 14, 256)  0           bn4a_branch2b[0][0]              \n",
            "__________________________________________________________________________________________________\n",
            "res4a_branch2c (Conv2D)         (None, 14, 14, 1024) 263168      activation_24[0][0]              \n",
            "__________________________________________________________________________________________________\n",
            "res4a_branch1 (Conv2D)          (None, 14, 14, 1024) 525312      activation_22[0][0]              \n",
            "__________________________________________________________________________________________________\n",
            "bn4a_branch2c (BatchNormalizati (None, 14, 14, 1024) 4096        res4a_branch2c[0][0]             \n",
            "__________________________________________________________________________________________________\n",
            "bn4a_branch1 (BatchNormalizatio (None, 14, 14, 1024) 4096        res4a_branch1[0][0]              \n",
            "__________________________________________________________________________________________________\n",
            "add_8 (Add)                     (None, 14, 14, 1024) 0           bn4a_branch2c[0][0]              \n",
            "                                                                 bn4a_branch1[0][0]               \n",
            "__________________________________________________________________________________________________\n",
            "activation_25 (Activation)      (None, 14, 14, 1024) 0           add_8[0][0]                      \n",
            "__________________________________________________________________________________________________\n",
            "res4b_branch2a (Conv2D)         (None, 14, 14, 256)  262400      activation_25[0][0]              \n",
            "__________________________________________________________________________________________________\n",
            "bn4b_branch2a (BatchNormalizati (None, 14, 14, 256)  1024        res4b_branch2a[0][0]             \n",
            "__________________________________________________________________________________________________\n",
            "activation_26 (Activation)      (None, 14, 14, 256)  0           bn4b_branch2a[0][0]              \n",
            "__________________________________________________________________________________________________\n",
            "res4b_branch2b (Conv2D)         (None, 14, 14, 256)  590080      activation_26[0][0]              \n",
            "__________________________________________________________________________________________________\n",
            "bn4b_branch2b (BatchNormalizati (None, 14, 14, 256)  1024        res4b_branch2b[0][0]             \n",
            "__________________________________________________________________________________________________\n",
            "activation_27 (Activation)      (None, 14, 14, 256)  0           bn4b_branch2b[0][0]              \n",
            "__________________________________________________________________________________________________\n",
            "res4b_branch2c (Conv2D)         (None, 14, 14, 1024) 263168      activation_27[0][0]              \n",
            "__________________________________________________________________________________________________\n",
            "bn4b_branch2c (BatchNormalizati (None, 14, 14, 1024) 4096        res4b_branch2c[0][0]             \n",
            "__________________________________________________________________________________________________\n",
            "add_9 (Add)                     (None, 14, 14, 1024) 0           bn4b_branch2c[0][0]              \n",
            "                                                                 activation_25[0][0]              \n",
            "__________________________________________________________________________________________________\n",
            "activation_28 (Activation)      (None, 14, 14, 1024) 0           add_9[0][0]                      \n",
            "__________________________________________________________________________________________________\n",
            "res4c_branch2a (Conv2D)         (None, 14, 14, 256)  262400      activation_28[0][0]              \n",
            "__________________________________________________________________________________________________\n",
            "bn4c_branch2a (BatchNormalizati (None, 14, 14, 256)  1024        res4c_branch2a[0][0]             \n",
            "__________________________________________________________________________________________________\n",
            "activation_29 (Activation)      (None, 14, 14, 256)  0           bn4c_branch2a[0][0]              \n",
            "__________________________________________________________________________________________________\n",
            "res4c_branch2b (Conv2D)         (None, 14, 14, 256)  590080      activation_29[0][0]              \n",
            "__________________________________________________________________________________________________\n",
            "bn4c_branch2b (BatchNormalizati (None, 14, 14, 256)  1024        res4c_branch2b[0][0]             \n",
            "__________________________________________________________________________________________________\n",
            "activation_30 (Activation)      (None, 14, 14, 256)  0           bn4c_branch2b[0][0]              \n",
            "__________________________________________________________________________________________________\n",
            "res4c_branch2c (Conv2D)         (None, 14, 14, 1024) 263168      activation_30[0][0]              \n",
            "__________________________________________________________________________________________________\n",
            "bn4c_branch2c (BatchNormalizati (None, 14, 14, 1024) 4096        res4c_branch2c[0][0]             \n",
            "__________________________________________________________________________________________________\n",
            "add_10 (Add)                    (None, 14, 14, 1024) 0           bn4c_branch2c[0][0]              \n",
            "                                                                 activation_28[0][0]              \n",
            "__________________________________________________________________________________________________\n",
            "activation_31 (Activation)      (None, 14, 14, 1024) 0           add_10[0][0]                     \n",
            "__________________________________________________________________________________________________\n",
            "res4d_branch2a (Conv2D)         (None, 14, 14, 256)  262400      activation_31[0][0]              \n",
            "__________________________________________________________________________________________________\n",
            "bn4d_branch2a (BatchNormalizati (None, 14, 14, 256)  1024        res4d_branch2a[0][0]             \n",
            "__________________________________________________________________________________________________\n",
            "activation_32 (Activation)      (None, 14, 14, 256)  0           bn4d_branch2a[0][0]              \n",
            "__________________________________________________________________________________________________\n",
            "res4d_branch2b (Conv2D)         (None, 14, 14, 256)  590080      activation_32[0][0]              \n",
            "__________________________________________________________________________________________________\n",
            "bn4d_branch2b (BatchNormalizati (None, 14, 14, 256)  1024        res4d_branch2b[0][0]             \n",
            "__________________________________________________________________________________________________\n",
            "activation_33 (Activation)      (None, 14, 14, 256)  0           bn4d_branch2b[0][0]              \n",
            "__________________________________________________________________________________________________\n",
            "res4d_branch2c (Conv2D)         (None, 14, 14, 1024) 263168      activation_33[0][0]              \n",
            "__________________________________________________________________________________________________\n",
            "bn4d_branch2c (BatchNormalizati (None, 14, 14, 1024) 4096        res4d_branch2c[0][0]             \n",
            "__________________________________________________________________________________________________\n",
            "add_11 (Add)                    (None, 14, 14, 1024) 0           bn4d_branch2c[0][0]              \n",
            "                                                                 activation_31[0][0]              \n",
            "__________________________________________________________________________________________________\n",
            "activation_34 (Activation)      (None, 14, 14, 1024) 0           add_11[0][0]                     \n",
            "__________________________________________________________________________________________________\n",
            "res4e_branch2a (Conv2D)         (None, 14, 14, 256)  262400      activation_34[0][0]              \n",
            "__________________________________________________________________________________________________\n",
            "bn4e_branch2a (BatchNormalizati (None, 14, 14, 256)  1024        res4e_branch2a[0][0]             \n",
            "__________________________________________________________________________________________________\n",
            "activation_35 (Activation)      (None, 14, 14, 256)  0           bn4e_branch2a[0][0]              \n",
            "__________________________________________________________________________________________________\n",
            "res4e_branch2b (Conv2D)         (None, 14, 14, 256)  590080      activation_35[0][0]              \n",
            "__________________________________________________________________________________________________\n",
            "bn4e_branch2b (BatchNormalizati (None, 14, 14, 256)  1024        res4e_branch2b[0][0]             \n",
            "__________________________________________________________________________________________________\n",
            "activation_36 (Activation)      (None, 14, 14, 256)  0           bn4e_branch2b[0][0]              \n",
            "__________________________________________________________________________________________________\n",
            "res4e_branch2c (Conv2D)         (None, 14, 14, 1024) 263168      activation_36[0][0]              \n",
            "__________________________________________________________________________________________________\n",
            "bn4e_branch2c (BatchNormalizati (None, 14, 14, 1024) 4096        res4e_branch2c[0][0]             \n",
            "__________________________________________________________________________________________________\n",
            "add_12 (Add)                    (None, 14, 14, 1024) 0           bn4e_branch2c[0][0]              \n",
            "                                                                 activation_34[0][0]              \n",
            "__________________________________________________________________________________________________\n",
            "activation_37 (Activation)      (None, 14, 14, 1024) 0           add_12[0][0]                     \n",
            "__________________________________________________________________________________________________\n",
            "res4f_branch2a (Conv2D)         (None, 14, 14, 256)  262400      activation_37[0][0]              \n",
            "__________________________________________________________________________________________________\n",
            "bn4f_branch2a (BatchNormalizati (None, 14, 14, 256)  1024        res4f_branch2a[0][0]             \n",
            "__________________________________________________________________________________________________\n",
            "activation_38 (Activation)      (None, 14, 14, 256)  0           bn4f_branch2a[0][0]              \n",
            "__________________________________________________________________________________________________\n",
            "res4f_branch2b (Conv2D)         (None, 14, 14, 256)  590080      activation_38[0][0]              \n",
            "__________________________________________________________________________________________________\n",
            "bn4f_branch2b (BatchNormalizati (None, 14, 14, 256)  1024        res4f_branch2b[0][0]             \n",
            "__________________________________________________________________________________________________\n",
            "activation_39 (Activation)      (None, 14, 14, 256)  0           bn4f_branch2b[0][0]              \n",
            "__________________________________________________________________________________________________\n",
            "res4f_branch2c (Conv2D)         (None, 14, 14, 1024) 263168      activation_39[0][0]              \n",
            "__________________________________________________________________________________________________\n",
            "bn4f_branch2c (BatchNormalizati (None, 14, 14, 1024) 4096        res4f_branch2c[0][0]             \n",
            "__________________________________________________________________________________________________\n",
            "add_13 (Add)                    (None, 14, 14, 1024) 0           bn4f_branch2c[0][0]              \n",
            "                                                                 activation_37[0][0]              \n",
            "__________________________________________________________________________________________________\n",
            "activation_40 (Activation)      (None, 14, 14, 1024) 0           add_13[0][0]                     \n",
            "__________________________________________________________________________________________________\n",
            "res5a_branch2a (Conv2D)         (None, 7, 7, 512)    524800      activation_40[0][0]              \n",
            "__________________________________________________________________________________________________\n",
            "bn5a_branch2a (BatchNormalizati (None, 7, 7, 512)    2048        res5a_branch2a[0][0]             \n",
            "__________________________________________________________________________________________________\n",
            "activation_41 (Activation)      (None, 7, 7, 512)    0           bn5a_branch2a[0][0]              \n",
            "__________________________________________________________________________________________________\n",
            "res5a_branch2b (Conv2D)         (None, 7, 7, 512)    2359808     activation_41[0][0]              \n",
            "__________________________________________________________________________________________________\n",
            "bn5a_branch2b (BatchNormalizati (None, 7, 7, 512)    2048        res5a_branch2b[0][0]             \n",
            "__________________________________________________________________________________________________\n",
            "activation_42 (Activation)      (None, 7, 7, 512)    0           bn5a_branch2b[0][0]              \n",
            "__________________________________________________________________________________________________\n",
            "res5a_branch2c (Conv2D)         (None, 7, 7, 2048)   1050624     activation_42[0][0]              \n",
            "__________________________________________________________________________________________________\n",
            "res5a_branch1 (Conv2D)          (None, 7, 7, 2048)   2099200     activation_40[0][0]              \n",
            "__________________________________________________________________________________________________\n",
            "bn5a_branch2c (BatchNormalizati (None, 7, 7, 2048)   8192        res5a_branch2c[0][0]             \n",
            "__________________________________________________________________________________________________\n",
            "bn5a_branch1 (BatchNormalizatio (None, 7, 7, 2048)   8192        res5a_branch1[0][0]              \n",
            "__________________________________________________________________________________________________\n",
            "add_14 (Add)                    (None, 7, 7, 2048)   0           bn5a_branch2c[0][0]              \n",
            "                                                                 bn5a_branch1[0][0]               \n",
            "__________________________________________________________________________________________________\n",
            "activation_43 (Activation)      (None, 7, 7, 2048)   0           add_14[0][0]                     \n",
            "__________________________________________________________________________________________________\n",
            "res5b_branch2a (Conv2D)         (None, 7, 7, 512)    1049088     activation_43[0][0]              \n",
            "__________________________________________________________________________________________________\n",
            "bn5b_branch2a (BatchNormalizati (None, 7, 7, 512)    2048        res5b_branch2a[0][0]             \n",
            "__________________________________________________________________________________________________\n",
            "activation_44 (Activation)      (None, 7, 7, 512)    0           bn5b_branch2a[0][0]              \n",
            "__________________________________________________________________________________________________\n",
            "res5b_branch2b (Conv2D)         (None, 7, 7, 512)    2359808     activation_44[0][0]              \n",
            "__________________________________________________________________________________________________\n",
            "bn5b_branch2b (BatchNormalizati (None, 7, 7, 512)    2048        res5b_branch2b[0][0]             \n",
            "__________________________________________________________________________________________________\n",
            "activation_45 (Activation)      (None, 7, 7, 512)    0           bn5b_branch2b[0][0]              \n",
            "__________________________________________________________________________________________________\n",
            "res5b_branch2c (Conv2D)         (None, 7, 7, 2048)   1050624     activation_45[0][0]              \n",
            "__________________________________________________________________________________________________\n",
            "bn5b_branch2c (BatchNormalizati (None, 7, 7, 2048)   8192        res5b_branch2c[0][0]             \n",
            "__________________________________________________________________________________________________\n",
            "add_15 (Add)                    (None, 7, 7, 2048)   0           bn5b_branch2c[0][0]              \n",
            "                                                                 activation_43[0][0]              \n",
            "__________________________________________________________________________________________________\n",
            "activation_46 (Activation)      (None, 7, 7, 2048)   0           add_15[0][0]                     \n",
            "__________________________________________________________________________________________________\n",
            "res5c_branch2a (Conv2D)         (None, 7, 7, 512)    1049088     activation_46[0][0]              \n",
            "__________________________________________________________________________________________________\n",
            "bn5c_branch2a (BatchNormalizati (None, 7, 7, 512)    2048        res5c_branch2a[0][0]             \n",
            "__________________________________________________________________________________________________\n",
            "activation_47 (Activation)      (None, 7, 7, 512)    0           bn5c_branch2a[0][0]              \n",
            "__________________________________________________________________________________________________\n",
            "res5c_branch2b (Conv2D)         (None, 7, 7, 512)    2359808     activation_47[0][0]              \n",
            "__________________________________________________________________________________________________\n",
            "bn5c_branch2b (BatchNormalizati (None, 7, 7, 512)    2048        res5c_branch2b[0][0]             \n",
            "__________________________________________________________________________________________________\n",
            "activation_48 (Activation)      (None, 7, 7, 512)    0           bn5c_branch2b[0][0]              \n",
            "__________________________________________________________________________________________________\n",
            "res5c_branch2c (Conv2D)         (None, 7, 7, 2048)   1050624     activation_48[0][0]              \n",
            "__________________________________________________________________________________________________\n",
            "bn5c_branch2c (BatchNormalizati (None, 7, 7, 2048)   8192        res5c_branch2c[0][0]             \n",
            "__________________________________________________________________________________________________\n",
            "add_16 (Add)                    (None, 7, 7, 2048)   0           bn5c_branch2c[0][0]              \n",
            "                                                                 activation_46[0][0]              \n",
            "__________________________________________________________________________________________________\n",
            "activation_49 (Activation)      (None, 7, 7, 2048)   0           add_16[0][0]                     \n",
            "__________________________________________________________________________________________________\n",
            "avg_pool (GlobalAveragePooling2 (None, 2048)         0           activation_49[0][0]              \n",
            "__________________________________________________________________________________________________\n",
            "fc1000 (Dense)                  (None, 1000)         2049000     avg_pool[0][0]                   \n",
            "==================================================================================================\n",
            "Total params: 25,636,712\n",
            "Trainable params: 25,583,592\n",
            "Non-trainable params: 53,120\n",
            "__________________________________________________________________________________________________\n"
          ],
          "name": "stdout"
        }
      ]
    },
    {
      "cell_type": "markdown",
      "metadata": {
        "id": "5j32g7MB2l5D",
        "colab_type": "text"
      },
      "source": [
        "Change the output from predicting thousands of imagenet categories to predicting two categories (dogs vs. cats)"
      ]
    },
    {
      "cell_type": "code",
      "metadata": {
        "id": "j8m-YpK83tZd",
        "colab_type": "code",
        "outputId": "115542a0-dda4-4c7d-bd07-9918498465ee",
        "colab": {
          "base_uri": "https://localhost:8080/",
          "height": 176
        }
      },
      "source": [
        "#bind 1D sigmoid output prediction to second-to-last layer\n",
        "final_vgg16_layer = vgg16.get_layer('fc2').output\n",
        "vgg16_prediction = Dense(output_dim=1, activation='sigmoid', name='logit')(final_vgg16_layer)\n",
        "vgg16_model = Model(input=vgg16.input, output=vgg16_prediction)\n",
        "\n",
        "final_resnet50_layer = resnet50.get_layer('avg_pool').output\n",
        "resnet50_prediction = Dense(output_dim=1, activation='sigmoid', name='logit')(final_resnet50_layer)\n",
        "resnet50_model = Model(input=resnet50.input, output=resnet50_prediction)"
      ],
      "execution_count": 0,
      "outputs": [
        {
          "output_type": "stream",
          "text": [
            "/usr/local/lib/python3.6/dist-packages/ipykernel_launcher.py:2: UserWarning: Update your `Dense` call to the Keras 2 API: `Dense(activation=\"sigmoid\", name=\"logit\", units=1)`\n",
            "  \n",
            "/usr/local/lib/python3.6/dist-packages/ipykernel_launcher.py:3: UserWarning: Update your `Model` call to the Keras 2 API: `Model(inputs=Tensor(\"in..., outputs=Tensor(\"lo...)`\n",
            "  This is separate from the ipykernel package so we can avoid doing imports until\n",
            "/usr/local/lib/python3.6/dist-packages/ipykernel_launcher.py:6: UserWarning: Update your `Dense` call to the Keras 2 API: `Dense(activation=\"sigmoid\", name=\"logit\", units=1)`\n",
            "  \n",
            "/usr/local/lib/python3.6/dist-packages/ipykernel_launcher.py:7: UserWarning: Update your `Model` call to the Keras 2 API: `Model(inputs=Tensor(\"in..., outputs=Tensor(\"lo...)`\n",
            "  import sys\n"
          ],
          "name": "stderr"
        }
      ]
    },
    {
      "cell_type": "markdown",
      "metadata": {
        "id": "vgxQ2Dd632gE",
        "colab_type": "text"
      },
      "source": [
        "Create a separate, timestamped results directory for logging and saving intermediate model containers\n",
        "\n",
        "Then, create Keras callbacks that will save CSV training logs and intermediate model containers to that results directory"
      ]
    },
    {
      "cell_type": "code",
      "metadata": {
        "id": "L89Rl-nE4JFi",
        "colab_type": "code",
        "colab": {}
      },
      "source": [
        "timestamp = \"results/\" + t.strftime(\"%Y%m%d-%H%M%S\")\n",
        "if not os.path.exists(timestamp):\n",
        "    os.makedirs(timestamp)\n",
        "\n",
        "vgg16_csv_logger = CSVLogger(timestamp + '/vgg16_training_log.csv', append=True, separator=',')\n",
        "vgg16_model_saver = ModelCheckpoint(timestamp + '/vgg16.weights.{epoch:02d}-{val_loss:.2f}.hdf5', monitor='val_loss', verbose=0, save_best_only=True, mode='auto', period=MODEL_SAVER_PERIOD)\n",
        "resnet50_csv_logger = CSVLogger(timestamp + '/resnet50_training_log.csv', append=True, separator=',')\n",
        "resnet50_model_saver = ModelCheckpoint(timestamp + '/resnet50.weights.{epoch:02d}-{val_loss:.2f}.hdf5', monitor='val_loss', verbose=0, save_best_only=True, mode='auto', period=MODEL_SAVER_PERIOD)\n"
      ],
      "execution_count": 0,
      "outputs": []
    },
    {
      "cell_type": "markdown",
      "metadata": {
        "id": "rPv7p2Ri40Bn",
        "colab_type": "text"
      },
      "source": [
        "Turn off training (freeze) the weights for the convolutional layers but allow the dense layers to be trained"
      ]
    },
    {
      "cell_type": "code",
      "metadata": {
        "id": "SQIRg8Sx49NI",
        "colab_type": "code",
        "outputId": "2e46bf2a-9ee7-49e8-9fc2-f9c85832dc90",
        "colab": {
          "base_uri": "https://localhost:8080/",
          "height": 237
        }
      },
      "source": [
        "for layer in vgg16_model.layers:\n",
        "    if layer.name in ['fc1', 'fc2', 'logit']:\n",
        "        continue\n",
        "    layer.trainable = False\n",
        "\n",
        "for layer in resnet50_model.layers:\n",
        "    if layer.name in ['avg_pool', 'flatten_1', 'logit']:\n",
        "        continue\n",
        "    layer.trainable = False"
      ],
      "execution_count": 0,
      "outputs": [
        {
          "output_type": "error",
          "ename": "NameError",
          "evalue": "ignored",
          "traceback": [
            "\u001b[0;31m---------------------------------------------------------------------------\u001b[0m",
            "\u001b[0;31mNameError\u001b[0m                                 Traceback (most recent call last)",
            "\u001b[0;32m<ipython-input-13-5f768eed7142>\u001b[0m in \u001b[0;36m<module>\u001b[0;34m()\u001b[0m\n\u001b[1;32m      4\u001b[0m     \u001b[0mlayer\u001b[0m\u001b[0;34m.\u001b[0m\u001b[0mtrainable\u001b[0m \u001b[0;34m=\u001b[0m \u001b[0;32mFalse\u001b[0m\u001b[0;34m\u001b[0m\u001b[0;34m\u001b[0m\u001b[0m\n\u001b[1;32m      5\u001b[0m \u001b[0;34m\u001b[0m\u001b[0m\n\u001b[0;32m----> 6\u001b[0;31m \u001b[0;32mfor\u001b[0m \u001b[0mlayer\u001b[0m \u001b[0;32min\u001b[0m \u001b[0mxception_model\u001b[0m\u001b[0;34m.\u001b[0m\u001b[0mlayers\u001b[0m\u001b[0;34m:\u001b[0m\u001b[0;34m\u001b[0m\u001b[0;34m\u001b[0m\u001b[0m\n\u001b[0m\u001b[1;32m      7\u001b[0m     \u001b[0;32mif\u001b[0m \u001b[0mlayer\u001b[0m\u001b[0;34m.\u001b[0m\u001b[0mname\u001b[0m \u001b[0;32min\u001b[0m \u001b[0;34m[\u001b[0m\u001b[0;34m'avg_pool'\u001b[0m\u001b[0;34m,\u001b[0m \u001b[0;34m'logit'\u001b[0m\u001b[0;34m]\u001b[0m\u001b[0;34m:\u001b[0m\u001b[0;34m\u001b[0m\u001b[0;34m\u001b[0m\u001b[0m\n\u001b[1;32m      8\u001b[0m         \u001b[0;32mcontinue\u001b[0m\u001b[0;34m\u001b[0m\u001b[0;34m\u001b[0m\u001b[0m\n",
            "\u001b[0;31mNameError\u001b[0m: name 'xception_model' is not defined"
          ]
        }
      ]
    },
    {
      "cell_type": "markdown",
      "metadata": {
        "id": "cwJI-la05CrS",
        "colab_type": "text"
      },
      "source": [
        "Use stochastic gradient descent as the training algorithm with a learning rate of .0001"
      ]
    },
    {
      "cell_type": "code",
      "metadata": {
        "id": "OV-fpXau5NM0",
        "colab_type": "code",
        "colab": {}
      },
      "source": [
        "sgd = SGD(lr=1e-4, momentum=0.9)"
      ],
      "execution_count": 0,
      "outputs": []
    },
    {
      "cell_type": "markdown",
      "metadata": {
        "id": "syzS_xRT5Pbc",
        "colab_type": "text"
      },
      "source": [
        "Compile and train the models.\n",
        "\n",
        "Note that the CSV and model saver callbacks we created earlier need to be passed in here.\n",
        "\n",
        "We are using \"binary_crossentropy\" as the loss function because we are performing a binary classification (dogs vs. cats)\n",
        "\n",
        "If we had multiple categories (like dogs vs. cats vs. parrots vs. horses) we could use \"categorical_crossentropy\" as the loss function\n",
        "\n",
        "The full list of available Keras loss functions is documented [here](https://keras.io/losses/)."
      ]
    },
    {
      "cell_type": "markdown",
      "metadata": {
        "id": "WZ2YmPhXYJaC",
        "colab_type": "text"
      },
      "source": [
        "Compile and train vgg16"
      ]
    },
    {
      "cell_type": "code",
      "metadata": {
        "id": "-iv4x0_UYMTt",
        "colab_type": "code",
        "outputId": "59c5d308-0507-49ab-8b6d-0a605976967e",
        "colab": {
          "base_uri": "https://localhost:8080/",
          "height": 506
        }
      },
      "source": [
        "#compile and train models\n",
        "vgg16_model.compile(optimizer=sgd, loss='binary_crossentropy', metrics=['accuracy'])\n",
        "vgg16_model.fit_generator(train_generator,\n",
        "                    samples_per_epoch=SAMPLES_PER_EPOCH,\n",
        "                    epochs=EPOCHS,\n",
        "                    steps_per_epoch=STEPS_PER_EPOCH,\n",
        "                    validation_data=validation_generator,\n",
        "                    validation_steps=VALIDATION_STEPS,\n",
        "                    callbacks=[vgg16_csv_logger, vgg16_model_saver]);"
      ],
      "execution_count": 0,
      "outputs": [
        {
          "output_type": "stream",
          "text": [
            "WARNING:tensorflow:From /usr/local/lib/python3.6/dist-packages/keras/optimizers.py:793: The name tf.train.Optimizer is deprecated. Please use tf.compat.v1.train.Optimizer instead.\n",
            "\n",
            "WARNING:tensorflow:From /usr/local/lib/python3.6/dist-packages/tensorflow/python/ops/nn_impl.py:180: add_dispatch_support.<locals>.wrapper (from tensorflow.python.ops.array_ops) is deprecated and will be removed in a future version.\n",
            "Instructions for updating:\n",
            "Use tf.where in 2.0, which has the same broadcast rule as np.where\n",
            "Epoch 1/10\n"
          ],
          "name": "stdout"
        },
        {
          "output_type": "stream",
          "text": [
            "/usr/local/lib/python3.6/dist-packages/ipykernel_launcher.py:8: UserWarning: Update your `fit_generator` call to the Keras 2 API: `fit_generator(<keras_pre..., epochs=10, steps_per_epoch=1, validation_data=<keras_pre..., validation_steps=32, callbacks=[<keras.ca...)`\n",
            "  \n"
          ],
          "name": "stderr"
        },
        {
          "output_type": "stream",
          "text": [
            "\r1/1 [==============================] - 11s 11s/step - loss: 0.8427 - acc: 0.4375 - val_loss: 0.7744 - val_acc: 0.5820\n",
            "Epoch 2/10\n",
            "1/1 [==============================] - 3s 3s/step - loss: 0.7222 - acc: 0.6875 - val_loss: 0.7402 - val_acc: 0.6113\n",
            "Epoch 3/10\n",
            "1/1 [==============================] - 3s 3s/step - loss: 0.9429 - acc: 0.5000 - val_loss: 0.6398 - val_acc: 0.6523\n",
            "Epoch 4/10\n",
            "1/1 [==============================] - 3s 3s/step - loss: 0.6979 - acc: 0.6250 - val_loss: 0.6004 - val_acc: 0.6914\n",
            "Epoch 5/10\n",
            "1/1 [==============================] - 3s 3s/step - loss: 0.3474 - acc: 0.8125 - val_loss: 0.5488 - val_acc: 0.7461\n",
            "Epoch 6/10\n",
            "1/1 [==============================] - 3s 3s/step - loss: 0.6119 - acc: 0.5625 - val_loss: 0.4899 - val_acc: 0.7695\n",
            "Epoch 7/10\n",
            "1/1 [==============================] - 3s 3s/step - loss: 0.3503 - acc: 0.9375 - val_loss: 0.4331 - val_acc: 0.8008\n",
            "Epoch 8/10\n",
            "1/1 [==============================] - 3s 3s/step - loss: 0.3010 - acc: 0.8125 - val_loss: 0.3511 - val_acc: 0.8555\n",
            "Epoch 9/10\n",
            "1/1 [==============================] - 3s 3s/step - loss: 0.3614 - acc: 0.8750 - val_loss: 0.3231 - val_acc: 0.8555\n",
            "Epoch 10/10\n",
            "1/1 [==============================] - 3s 3s/step - loss: 0.3598 - acc: 0.7500 - val_loss: 0.2735 - val_acc: 0.8926\n"
          ],
          "name": "stdout"
        }
      ]
    },
    {
      "cell_type": "markdown",
      "metadata": {
        "id": "wweLv8LZYRzq",
        "colab_type": "text"
      },
      "source": [
        "Compile and train xception"
      ]
    },
    {
      "cell_type": "markdown",
      "metadata": {
        "id": "0NTnhdPtYVx5",
        "colab_type": "text"
      },
      "source": [
        "Compile and train resnet-50"
      ]
    },
    {
      "cell_type": "code",
      "metadata": {
        "id": "AcCcc1zpYVjQ",
        "colab_type": "code",
        "outputId": "0b5efce2-1068-4ce2-a0ac-c5f348b764bc",
        "colab": {
          "base_uri": "https://localhost:8080/",
          "height": 419
        }
      },
      "source": [
        "resnet50_model.compile(optimizer=sgd, loss='binary_crossentropy', metrics=['accuracy'])\n",
        "resnet50_model.fit_generator(train_generator,\n",
        "                    samples_per_epoch=SAMPLES_PER_EPOCH,\n",
        "                    epochs=EPOCHS,\n",
        "                    steps_per_epoch=STEPS_PER_EPOCH,\n",
        "                    validation_data=validation_generator,\n",
        "                    validation_steps=VALIDATION_STEPS,\n",
        "                    callbacks=[resnet50_csv_logger, resnet50_model_saver]);"
      ],
      "execution_count": 0,
      "outputs": [
        {
          "output_type": "stream",
          "text": [
            "/usr/local/lib/python3.6/dist-packages/ipykernel_launcher.py:8: UserWarning: Update your `fit_generator` call to the Keras 2 API: `fit_generator(<keras_pre..., epochs=10, steps_per_epoch=1, validation_data=<keras_pre..., validation_steps=32, callbacks=[<keras.ca...)`\n",
            "  \n"
          ],
          "name": "stderr"
        },
        {
          "output_type": "stream",
          "text": [
            "Epoch 1/10\n",
            "1/1 [==============================] - 11s 11s/step - loss: 0.7210 - acc: 0.5625 - val_loss: 0.8023 - val_acc: 0.5098\n",
            "Epoch 2/10\n",
            "1/1 [==============================] - 3s 3s/step - loss: 0.8156 - acc: 0.5000 - val_loss: 0.7828 - val_acc: 0.5117\n",
            "Epoch 3/10\n",
            "1/1 [==============================] - 2s 2s/step - loss: 0.7820 - acc: 0.4375 - val_loss: 0.7762 - val_acc: 0.5156\n",
            "Epoch 4/10\n",
            "1/1 [==============================] - 3s 3s/step - loss: 0.7312 - acc: 0.5625 - val_loss: 0.7643 - val_acc: 0.5312\n",
            "Epoch 5/10\n",
            "1/1 [==============================] - 2s 2s/step - loss: 0.5611 - acc: 0.7500 - val_loss: 0.7455 - val_acc: 0.5605\n",
            "Epoch 6/10\n",
            "1/1 [==============================] - 2s 2s/step - loss: 0.6941 - acc: 0.6250 - val_loss: 0.7605 - val_acc: 0.5215\n",
            "Epoch 7/10\n",
            "1/1 [==============================] - 3s 3s/step - loss: 0.7859 - acc: 0.4375 - val_loss: 0.7640 - val_acc: 0.5410\n",
            "Epoch 8/10\n",
            "1/1 [==============================] - 3s 3s/step - loss: 0.7531 - acc: 0.5625 - val_loss: 0.7041 - val_acc: 0.5859\n",
            "Epoch 9/10\n",
            "1/1 [==============================] - 2s 2s/step - loss: 0.8860 - acc: 0.5000 - val_loss: 0.7107 - val_acc: 0.5469\n",
            "Epoch 10/10\n",
            "1/1 [==============================] - 2s 2s/step - loss: 0.6615 - acc: 0.6250 - val_loss: 0.7499 - val_acc: 0.5449\n"
          ],
          "name": "stdout"
        }
      ]
    },
    {
      "cell_type": "markdown",
      "metadata": {
        "id": "Y_hXc2qMizL9",
        "colab_type": "text"
      },
      "source": [
        "Helper method that will pull images from the validation set, show the images, and graph the prediction from a model for that image"
      ]
    },
    {
      "cell_type": "code",
      "metadata": {
        "id": "JkVTFLXciybu",
        "colab_type": "code",
        "colab": {}
      },
      "source": [
        "def show_prediction_examples(num_examples=1, validation_image_generator=None, model=None, folder_path='results/', model_name='name'):\n",
        "    \"\"\"Helper method to show examples of images and prediction probabilities\"\"\"\n",
        "    X_val_sample, _ = next(validation_image_generator)\n",
        "    y_pred = model.predict(X_val_sample)\n",
        "    for idx, x, y in zip(range(num_examples), X_val_sample[:num_examples], y_pred.flatten()[:num_examples]):\n",
        "        plt.imshow(x)\n",
        "        plt.show()\n",
        "        s = pd.Series({'Cat': 1-y, 'Dog': y})\n",
        "        axes = s.plot(kind='bar')\n",
        "        axes.set_xlabel('Class')\n",
        "        axes.set_ylabel('Probability')\n",
        "        axes.set_ylim([0, 1])\n",
        "        plt.show()"
      ],
      "execution_count": 0,
      "outputs": []
    },
    {
      "cell_type": "markdown",
      "metadata": {
        "id": "fga-kK9n6WJQ",
        "colab_type": "text"
      },
      "source": [
        "Show 4 images and the classification prediction from VGG16 for those images (see helper method at top of file for more details on how this is done)"
      ]
    },
    {
      "cell_type": "code",
      "metadata": {
        "id": "I11Tti_Xidg4",
        "colab_type": "code",
        "outputId": "384baf1b-2a9d-45b6-e51a-2233cc944cd6",
        "colab": {
          "base_uri": "https://localhost:8080/",
          "height": 1000
        }
      },
      "source": [
        "show_prediction_examples(num_examples=4, validation_image_generator=validation_generator, model=vgg16_model, folder_path=timestamp, model_name='vgg16')"
      ],
      "execution_count": 0,
      "outputs": [
        {
          "output_type": "stream",
          "text": [
            "Clipping input data to the valid range for imshow with RGB data ([0..1] for floats or [0..255] for integers).\n"
          ],
          "name": "stderr"
        },
        {
          "output_type": "display_data",
          "data": {
            "image/png": "[encoded data removed]",
            "text/plain": [
              "<Figure size 432x288 with 1 Axes>"
            ]
          },
          "metadata": {
            "tags": []
          }
        },
        {
          "output_type": "display_data",
          "data": {
            "image/png": "[encoded data removed]",
            "text/plain": [
              "<Figure size 432x288 with 1 Axes>"
            ]
          },
          "metadata": {
            "tags": []
          }
        },
        {
          "output_type": "stream",
          "text": [
            "Clipping input data to the valid range for imshow with RGB data ([0..1] for floats or [0..255] for integers).\n"
          ],
          "name": "stderr"
        },
        {
          "output_type": "display_data",
          "data": {
            "image/png": "[encoded data removed]",
            "text/plain": [
              "<Figure size 432x288 with 1 Axes>"
            ]
          },
          "metadata": {
            "tags": []
          }
        },
        {
          "output_type": "display_data",
          "data": {
            "image/png": "[encoded data removed]",
            "text/plain": [
              "<Figure size 432x288 with 1 Axes>"
            ]
          },
          "metadata": {
            "tags": []
          }
        },
        {
          "output_type": "stream",
          "text": [
            "Clipping input data to the valid range for imshow with RGB data ([0..1] for floats or [0..255] for integers).\n"
          ],
          "name": "stderr"
        },
        {
          "output_type": "display_data",
          "data": {
            "image/png": "[encoded data removed]",
            "text/plain": [
              "<Figure size 432x288 with 1 Axes>"
            ]
          },
          "metadata": {
            "tags": []
          }
        },
        {
          "output_type": "display_data",
          "data": {
            "image/png": "[encoded data removed]",
            "text/plain": [
              "<Figure size 432x288 with 1 Axes>"
            ]
          },
          "metadata": {
            "tags": []
          }
        },
        {
          "output_type": "stream",
          "text": [
            "Clipping input data to the valid range for imshow with RGB data ([0..1] for floats or [0..255] for integers).\n"
          ],
          "name": "stderr"
        },
        {
          "output_type": "display_data",
          "data": {
            "image/png": "[encoded data removed]",
            "text/plain": [
              "<Figure size 432x288 with 1 Axes>"
            ]
          },
          "metadata": {
            "tags": []
          }
        },
        {
          "output_type": "display_data",
          "data": {
            "image/png": "[encoded data removed]",
            "text/plain": [
              "<Figure size 432x288 with 1 Axes>"
            ]
          },
          "metadata": {
            "tags": []
          }
        }
      ]
    },
    {
      "cell_type": "markdown",
      "metadata": {
        "id": "w5ds_x-gicrM",
        "colab_type": "text"
      },
      "source": [
        "Show 4 images and the classification prediction from ResNet-50 for those images (see helper method at top of file for more details on how this is done)"
      ]
    },
    {
      "cell_type": "code",
      "metadata": {
        "id": "4JteE4XwwtUw",
        "colab_type": "code",
        "outputId": "1721d6a3-0764-459b-c98c-2cb2d842a52f",
        "colab": {
          "base_uri": "https://localhost:8080/",
          "height": 1000
        }
      },
      "source": [
        "show_prediction_examples(num_examples=4, validation_image_generator=validation_generator, model=resnet50_model, folder_path=timestamp, model_name='resnet50')"
      ],
      "execution_count": 0,
      "outputs": [
        {
          "output_type": "stream",
          "text": [
            "Clipping input data to the valid range for imshow with RGB data ([0..1] for floats or [0..255] for integers).\n"
          ],
          "name": "stderr"
        },
        {
          "output_type": "display_data",
          "data": {
            "image/png": "[encoded data removed]",
            "text/plain": [
              "<Figure size 432x288 with 1 Axes>"
            ]
          },
          "metadata": {
            "tags": []
          }
        },
        {
          "output_type": "display_data",
          "data": {
            "image/png": "[encoded data removed]",
            "text/plain": [
              "<Figure size 432x288 with 1 Axes>"
            ]
          },
          "metadata": {
            "tags": []
          }
        },
        {
          "output_type": "stream",
          "text": [
            "Clipping input data to the valid range for imshow with RGB data ([0..1] for floats or [0..255] for integers).\n"
          ],
          "name": "stderr"
        },
        {
          "output_type": "display_data",
          "data": {
            "image/png": "[encoded data removed]",
            "text/plain": [
              "<Figure size 432x288 with 1 Axes>"
            ]
          },
          "metadata": {
            "tags": []
          }
        },
        {
          "output_type": "display_data",
          "data": {
            "image/png": "[encoded data removed]",
            "text/plain": [
              "<Figure size 432x288 with 1 Axes>"
            ]
          },
          "metadata": {
            "tags": []
          }
        },
        {
          "output_type": "stream",
          "text": [
            "Clipping input data to the valid range for imshow with RGB data ([0..1] for floats or [0..255] for integers).\n"
          ],
          "name": "stderr"
        },
        {
          "output_type": "display_data",
          "data": {
            "image/png": "[encoded data removed]",
            "text/plain": [
              "<Figure size 432x288 with 1 Axes>"
            ]
          },
          "metadata": {
            "tags": []
          }
        },
        {
          "output_type": "display_data",
          "data": {
            "image/png": "[encoded data removed]",
            "text/plain": [
              "<Figure size 432x288 with 1 Axes>"
            ]
          },
          "metadata": {
            "tags": []
          }
        },
        {
          "output_type": "stream",
          "text": [
            "Clipping input data to the valid range for imshow with RGB data ([0..1] for floats or [0..255] for integers).\n"
          ],
          "name": "stderr"
        },
        {
          "output_type": "display_data",
          "data": {
            "image/png": "[encoded data removed]",
            "text/plain": [
              "<Figure size 432x288 with 1 Axes>"
            ]
          },
          "metadata": {
            "tags": []
          }
        },
        {
          "output_type": "display_data",
          "data": {
            "image/png": "[encoded data removed]",
            "text/plain": [
              "<Figure size 432x288 with 1 Axes>"
            ]
          },
          "metadata": {
            "tags": []
          }
        }
      ]
    },
    {
      "cell_type": "markdown",
      "metadata": {
        "id": "gBcgNXe2jDCr",
        "colab_type": "text"
      },
      "source": [
        "Loop through every validation image and calculate target (actual) class and class predicted by vgg16 and resnet50\n",
        "```\n",
        "                      predicted\n",
        "                 0 (cat)    1 (dog)\n",
        "actual 0 (cat)\n",
        "       1 (dog)\n",
        "```"
      ]
    },
    {
      "cell_type": "code",
      "metadata": {
        "id": "brG30hbDr1Ft",
        "colab_type": "code",
        "colab": {
          "base_uri": "https://localhost:8080/",
          "height": 1000
        },
        "outputId": "1d5aef8c-c506-41b2-abef-c08543a75a9d"
      },
      "source": [
        "PREDICTION_CUTOFF = 0.5\n",
        "vgg16_predcls = []\n",
        "resnet50_predcls = []\n",
        "targetcls = []\n",
        "CAT_VAL = 0\n",
        "DOG_VAL = 1\n",
        "for (dirpath, dirs, files) in os.walk('data/validation'):\n",
        "    for file in files:\n",
        "        img_val = CAT_VAL\n",
        "        if 'dog' in dirpath:\n",
        "            img_val = DOG_VAL\n",
        "        filepath = os.path.join(dirpath, file)\n",
        "        img = plt.imread(filepath)\n",
        "        vgg16_prediction = vgg16_model.predict(img)\n",
        "        vgg16_predcls.append( vgg16_prediction >= PREDICTION_CUTOFF ? DOG_VAL : CAT_VAL)\n",
        "        resnet50_prediction = resnet50_model.predict(img)\n",
        "        resnet50_predcls.append(resnet50_prediction >= PREDICTION_CUTOFF ? DOG_VAL : CAT_VAL)\n",
        "        print(filepath + ' img_val: ' + str(img_val) + ' vgg16_predict: ' + vgg16_prediction + ' resnet50_prediction: ' + resnet50_prediction)"
      ],
      "execution_count": 11,
      "outputs": [
        {
          "output_type": "stream",
          "text": [
            "data/validation/dogs/dog.1132.jpg is dog: 1\n",
            "data/validation/dogs/dog.1349.jpg is dog: 1\n",
            "data/validation/dogs/dog.1087.jpg is dog: 1\n",
            "data/validation/dogs/dog.1064.jpg is dog: 1\n",
            "data/validation/dogs/dog.1323.jpg is dog: 1\n",
            "data/validation/dogs/dog.1287.jpg is dog: 1\n",
            "data/validation/dogs/dog.1075.jpg is dog: 1\n",
            "data/validation/dogs/dog.1269.jpg is dog: 1\n",
            "data/validation/dogs/dog.1062.jpg is dog: 1\n",
            "data/validation/dogs/dog.1277.jpg is dog: 1\n",
            "data/validation/dogs/dog.1303.jpg is dog: 1\n",
            "data/validation/dogs/dog.1275.jpg is dog: 1\n",
            "data/validation/dogs/dog.1327.jpg is dog: 1\n",
            "data/validation/dogs/dog.1067.jpg is dog: 1\n",
            "data/validation/dogs/dog.1385.jpg is dog: 1\n",
            "data/validation/dogs/dog.1308.jpg is dog: 1\n",
            "data/validation/dogs/dog.1389.jpg is dog: 1\n",
            "data/validation/dogs/dog.1270.jpg is dog: 1\n",
            "data/validation/dogs/dog.1247.jpg is dog: 1\n",
            "data/validation/dogs/dog.1034.jpg is dog: 1\n",
            "data/validation/dogs/dog.1039.jpg is dog: 1\n",
            "data/validation/dogs/dog.1030.jpg is dog: 1\n",
            "data/validation/dogs/dog.1095.jpg is dog: 1\n",
            "data/validation/dogs/dog.1143.jpg is dog: 1\n",
            "data/validation/dogs/dog.1029.jpg is dog: 1\n",
            "data/validation/dogs/dog.1155.jpg is dog: 1\n",
            "data/validation/dogs/dog.1142.jpg is dog: 1\n",
            "data/validation/dogs/dog.1014.jpg is dog: 1\n",
            "data/validation/dogs/dog.1122.jpg is dog: 1\n",
            "data/validation/dogs/dog.1128.jpg is dog: 1\n",
            "data/validation/dogs/dog.1148.jpg is dog: 1\n",
            "data/validation/dogs/dog.1319.jpg is dog: 1\n",
            "data/validation/dogs/dog.1059.jpg is dog: 1\n",
            "data/validation/dogs/dog.1036.jpg is dog: 1\n",
            "data/validation/dogs/dog.1394.jpg is dog: 1\n",
            "data/validation/dogs/dog.1018.jpg is dog: 1\n",
            "data/validation/dogs/dog.1135.jpg is dog: 1\n",
            "data/validation/dogs/dog.1187.jpg is dog: 1\n",
            "data/validation/dogs/dog.1160.jpg is dog: 1\n",
            "data/validation/dogs/dog.1193.jpg is dog: 1\n",
            "data/validation/dogs/dog.1042.jpg is dog: 1\n",
            "data/validation/dogs/dog.1335.jpg is dog: 1\n",
            "data/validation/dogs/dog.1066.jpg is dog: 1\n",
            "data/validation/dogs/dog.1068.jpg is dog: 1\n",
            "data/validation/dogs/dog.1049.jpg is dog: 1\n",
            "data/validation/dogs/dog.1237.jpg is dog: 1\n",
            "data/validation/dogs/dog.1072.jpg is dog: 1\n",
            "data/validation/dogs/dog.1046.jpg is dog: 1\n",
            "data/validation/dogs/dog.1113.jpg is dog: 1\n",
            "data/validation/dogs/dog.1363.jpg is dog: 1\n",
            "data/validation/dogs/dog.1109.jpg is dog: 1\n",
            "data/validation/dogs/dog.1384.jpg is dog: 1\n",
            "data/validation/dogs/dog.1345.jpg is dog: 1\n",
            "data/validation/dogs/dog.1299.jpg is dog: 1\n",
            "data/validation/dogs/dog.1144.jpg is dog: 1\n",
            "data/validation/dogs/dog.1146.jpg is dog: 1\n",
            "data/validation/dogs/dog.1264.jpg is dog: 1\n",
            "data/validation/dogs/dog.1283.jpg is dog: 1\n",
            "data/validation/dogs/dog.1252.jpg is dog: 1\n",
            "data/validation/dogs/dog.1268.jpg is dog: 1\n",
            "data/validation/dogs/dog.1211.jpg is dog: 1\n",
            "data/validation/dogs/dog.1351.jpg is dog: 1\n",
            "data/validation/dogs/dog.1259.jpg is dog: 1\n",
            "data/validation/dogs/dog.1286.jpg is dog: 1\n",
            "data/validation/dogs/dog.1110.jpg is dog: 1\n",
            "data/validation/dogs/dog.1239.jpg is dog: 1\n",
            "data/validation/dogs/dog.1199.jpg is dog: 1\n",
            "data/validation/dogs/dog.1310.jpg is dog: 1\n",
            "data/validation/dogs/dog.1395.jpg is dog: 1\n",
            "data/validation/dogs/dog.1121.jpg is dog: 1\n",
            "data/validation/dogs/dog.1398.jpg is dog: 1\n",
            "data/validation/dogs/dog.1175.jpg is dog: 1\n",
            "data/validation/dogs/dog.1020.jpg is dog: 1\n",
            "data/validation/dogs/dog.1227.jpg is dog: 1\n",
            "data/validation/dogs/dog.1090.jpg is dog: 1\n",
            "data/validation/dogs/dog.1325.jpg is dog: 1\n",
            "data/validation/dogs/dog.1188.jpg is dog: 1\n",
            "data/validation/dogs/dog.1328.jpg is dog: 1\n",
            "data/validation/dogs/dog.1371.jpg is dog: 1\n",
            "data/validation/dogs/dog.1206.jpg is dog: 1\n",
            "data/validation/dogs/dog.1309.jpg is dog: 1\n",
            "data/validation/dogs/dog.1344.jpg is dog: 1\n",
            "data/validation/dogs/dog.1215.jpg is dog: 1\n",
            "data/validation/dogs/dog.1392.jpg is dog: 1\n",
            "data/validation/dogs/dog.1240.jpg is dog: 1\n",
            "data/validation/dogs/dog.1324.jpg is dog: 1\n",
            "data/validation/dogs/dog.1073.jpg is dog: 1\n",
            "data/validation/dogs/dog.1079.jpg is dog: 1\n",
            "data/validation/dogs/dog.1100.jpg is dog: 1\n",
            "data/validation/dogs/dog.1376.jpg is dog: 1\n",
            "data/validation/dogs/dog.1399.jpg is dog: 1\n",
            "data/validation/dogs/dog.1170.jpg is dog: 1\n",
            "data/validation/dogs/dog.1047.jpg is dog: 1\n",
            "data/validation/dogs/dog.1321.jpg is dog: 1\n",
            "data/validation/dogs/dog.1232.jpg is dog: 1\n",
            "data/validation/dogs/dog.1123.jpg is dog: 1\n",
            "data/validation/dogs/dog.1201.jpg is dog: 1\n",
            "data/validation/dogs/dog.1070.jpg is dog: 1\n",
            "data/validation/dogs/dog.1071.jpg is dog: 1\n",
            "data/validation/dogs/dog.1013.jpg is dog: 1\n",
            "data/validation/dogs/dog.1197.jpg is dog: 1\n",
            "data/validation/dogs/dog.1396.jpg is dog: 1\n",
            "data/validation/dogs/dog.1035.jpg is dog: 1\n",
            "data/validation/dogs/dog.1031.jpg is dog: 1\n",
            "data/validation/dogs/dog.1045.jpg is dog: 1\n",
            "data/validation/dogs/dog.1374.jpg is dog: 1\n",
            "data/validation/dogs/dog.1099.jpg is dog: 1\n",
            "data/validation/dogs/dog.1377.jpg is dog: 1\n",
            "data/validation/dogs/dog.1235.jpg is dog: 1\n",
            "data/validation/dogs/dog.1388.jpg is dog: 1\n",
            "data/validation/dogs/dog.1156.jpg is dog: 1\n",
            "data/validation/dogs/dog.1258.jpg is dog: 1\n",
            "data/validation/dogs/dog.1334.jpg is dog: 1\n",
            "data/validation/dogs/dog.1096.jpg is dog: 1\n",
            "data/validation/dogs/dog.1069.jpg is dog: 1\n",
            "data/validation/dogs/dog.1181.jpg is dog: 1\n",
            "data/validation/dogs/dog.1226.jpg is dog: 1\n",
            "data/validation/dogs/dog.1341.jpg is dog: 1\n",
            "data/validation/dogs/dog.1043.jpg is dog: 1\n",
            "data/validation/dogs/dog.1125.jpg is dog: 1\n",
            "data/validation/dogs/dog.1051.jpg is dog: 1\n",
            "data/validation/dogs/dog.1098.jpg is dog: 1\n",
            "data/validation/dogs/dog.1027.jpg is dog: 1\n",
            "data/validation/dogs/dog.1058.jpg is dog: 1\n",
            "data/validation/dogs/dog.1288.jpg is dog: 1\n",
            "data/validation/dogs/dog.1065.jpg is dog: 1\n",
            "data/validation/dogs/dog.1296.jpg is dog: 1\n",
            "data/validation/dogs/dog.1265.jpg is dog: 1\n",
            "data/validation/dogs/dog.1295.jpg is dog: 1\n",
            "data/validation/dogs/dog.1387.jpg is dog: 1\n",
            "data/validation/dogs/dog.1300.jpg is dog: 1\n",
            "data/validation/dogs/dog.1253.jpg is dog: 1\n",
            "data/validation/dogs/dog.1350.jpg is dog: 1\n",
            "data/validation/dogs/dog.1147.jpg is dog: 1\n",
            "data/validation/dogs/dog.1076.jpg is dog: 1\n",
            "data/validation/dogs/dog.1260.jpg is dog: 1\n",
            "data/validation/dogs/dog.1391.jpg is dog: 1\n",
            "data/validation/dogs/dog.1130.jpg is dog: 1\n",
            "data/validation/dogs/dog.1255.jpg is dog: 1\n",
            "data/validation/dogs/dog.1285.jpg is dog: 1\n",
            "data/validation/dogs/dog.1141.jpg is dog: 1\n",
            "data/validation/dogs/dog.1294.jpg is dog: 1\n",
            "data/validation/dogs/dog.1313.jpg is dog: 1\n",
            "data/validation/dogs/dog.1336.jpg is dog: 1\n",
            "data/validation/dogs/dog.1151.jpg is dog: 1\n",
            "data/validation/dogs/dog.1248.jpg is dog: 1\n",
            "data/validation/dogs/dog.1007.jpg is dog: 1\n",
            "data/validation/dogs/dog.1111.jpg is dog: 1\n",
            "data/validation/dogs/dog.1164.jpg is dog: 1\n",
            "data/validation/dogs/dog.1104.jpg is dog: 1\n",
            "data/validation/dogs/dog.1129.jpg is dog: 1\n",
            "data/validation/dogs/dog.1382.jpg is dog: 1\n",
            "data/validation/dogs/dog.1312.jpg is dog: 1\n",
            "data/validation/dogs/dog.1378.jpg is dog: 1\n",
            "data/validation/dogs/dog.1089.jpg is dog: 1\n",
            "data/validation/dogs/dog.1139.jpg is dog: 1\n",
            "data/validation/dogs/dog.1305.jpg is dog: 1\n",
            "data/validation/dogs/dog.1163.jpg is dog: 1\n",
            "data/validation/dogs/dog.1023.jpg is dog: 1\n",
            "data/validation/dogs/dog.1116.jpg is dog: 1\n",
            "data/validation/dogs/dog.1019.jpg is dog: 1\n",
            "data/validation/dogs/dog.1223.jpg is dog: 1\n",
            "data/validation/dogs/dog.1182.jpg is dog: 1\n",
            "data/validation/dogs/dog.1057.jpg is dog: 1\n",
            "data/validation/dogs/dog.1138.jpg is dog: 1\n",
            "data/validation/dogs/dog.1154.jpg is dog: 1\n",
            "data/validation/dogs/dog.1063.jpg is dog: 1\n",
            "data/validation/dogs/dog.1365.jpg is dog: 1\n",
            "data/validation/dogs/dog.1332.jpg is dog: 1\n",
            "data/validation/dogs/dog.1194.jpg is dog: 1\n",
            "data/validation/dogs/dog.1094.jpg is dog: 1\n",
            "data/validation/dogs/dog.1383.jpg is dog: 1\n",
            "data/validation/dogs/dog.1010.jpg is dog: 1\n",
            "data/validation/dogs/dog.1026.jpg is dog: 1\n",
            "data/validation/dogs/dog.1356.jpg is dog: 1\n",
            "data/validation/dogs/dog.1220.jpg is dog: 1\n",
            "data/validation/dogs/dog.1074.jpg is dog: 1\n",
            "data/validation/dogs/dog.1119.jpg is dog: 1\n",
            "data/validation/dogs/dog.1152.jpg is dog: 1\n",
            "data/validation/dogs/dog.1009.jpg is dog: 1\n",
            "data/validation/dogs/dog.1097.jpg is dog: 1\n",
            "data/validation/dogs/dog.1052.jpg is dog: 1\n",
            "data/validation/dogs/dog.1191.jpg is dog: 1\n",
            "data/validation/dogs/dog.1012.jpg is dog: 1\n",
            "data/validation/dogs/dog.1364.jpg is dog: 1\n",
            "data/validation/dogs/dog.1145.jpg is dog: 1\n",
            "data/validation/dogs/dog.1266.jpg is dog: 1\n",
            "data/validation/dogs/dog.1262.jpg is dog: 1\n",
            "data/validation/dogs/dog.1292.jpg is dog: 1\n",
            "data/validation/dogs/dog.1380.jpg is dog: 1\n",
            "data/validation/dogs/dog.1178.jpg is dog: 1\n",
            "data/validation/dogs/dog.1174.jpg is dog: 1\n",
            "data/validation/dogs/dog.1317.jpg is dog: 1\n",
            "data/validation/dogs/dog.1157.jpg is dog: 1\n",
            "data/validation/dogs/dog.1236.jpg is dog: 1\n",
            "data/validation/dogs/dog.1204.jpg is dog: 1\n",
            "data/validation/dogs/dog.1322.jpg is dog: 1\n",
            "data/validation/dogs/dog.1278.jpg is dog: 1\n",
            "data/validation/dogs/dog.1368.jpg is dog: 1\n",
            "data/validation/dogs/dog.1221.jpg is dog: 1\n",
            "data/validation/dogs/dog.1159.jpg is dog: 1\n",
            "data/validation/dogs/dog.1114.jpg is dog: 1\n",
            "data/validation/dogs/dog.1307.jpg is dog: 1\n",
            "data/validation/dogs/dog.1339.jpg is dog: 1\n",
            "data/validation/dogs/dog.1342.jpg is dog: 1\n",
            "data/validation/dogs/dog.1257.jpg is dog: 1\n",
            "data/validation/dogs/dog.1165.jpg is dog: 1\n",
            "data/validation/dogs/dog.1126.jpg is dog: 1\n",
            "data/validation/dogs/dog.1041.jpg is dog: 1\n",
            "data/validation/dogs/dog.1120.jpg is dog: 1\n",
            "data/validation/dogs/dog.1136.jpg is dog: 1\n",
            "data/validation/dogs/dog.1189.jpg is dog: 1\n",
            "data/validation/dogs/dog.1331.jpg is dog: 1\n",
            "data/validation/dogs/dog.1080.jpg is dog: 1\n",
            "data/validation/dogs/dog.1166.jpg is dog: 1\n",
            "data/validation/dogs/dog.1176.jpg is dog: 1\n",
            "data/validation/dogs/dog.1162.jpg is dog: 1\n",
            "data/validation/dogs/dog.1245.jpg is dog: 1\n",
            "data/validation/dogs/dog.1161.jpg is dog: 1\n",
            "data/validation/dogs/dog.1373.jpg is dog: 1\n",
            "data/validation/dogs/dog.1213.jpg is dog: 1\n",
            "data/validation/dogs/dog.1219.jpg is dog: 1\n",
            "data/validation/dogs/dog.1207.jpg is dog: 1\n",
            "data/validation/dogs/dog.1291.jpg is dog: 1\n",
            "data/validation/dogs/dog.1316.jpg is dog: 1\n",
            "data/validation/dogs/dog.1233.jpg is dog: 1\n",
            "data/validation/dogs/dog.1282.jpg is dog: 1\n",
            "data/validation/dogs/dog.1217.jpg is dog: 1\n",
            "data/validation/dogs/dog.1298.jpg is dog: 1\n",
            "data/validation/dogs/dog.1326.jpg is dog: 1\n",
            "data/validation/dogs/dog.1196.jpg is dog: 1\n",
            "data/validation/dogs/dog.1168.jpg is dog: 1\n",
            "data/validation/dogs/dog.1246.jpg is dog: 1\n",
            "data/validation/dogs/dog.1203.jpg is dog: 1\n",
            "data/validation/dogs/dog.1054.jpg is dog: 1\n",
            "data/validation/dogs/dog.1369.jpg is dog: 1\n",
            "data/validation/dogs/dog.1048.jpg is dog: 1\n",
            "data/validation/dogs/dog.1003.jpg is dog: 1\n",
            "data/validation/dogs/dog.1359.jpg is dog: 1\n",
            "data/validation/dogs/dog.1124.jpg is dog: 1\n",
            "data/validation/dogs/dog.1228.jpg is dog: 1\n",
            "data/validation/dogs/dog.1037.jpg is dog: 1\n",
            "data/validation/dogs/dog.1386.jpg is dog: 1\n",
            "data/validation/dogs/dog.1171.jpg is dog: 1\n",
            "data/validation/dogs/dog.1082.jpg is dog: 1\n",
            "data/validation/dogs/dog.1127.jpg is dog: 1\n",
            "data/validation/dogs/dog.1184.jpg is dog: 1\n",
            "data/validation/dogs/dog.1297.jpg is dog: 1\n",
            "data/validation/dogs/dog.1276.jpg is dog: 1\n",
            "data/validation/dogs/dog.1261.jpg is dog: 1\n",
            "data/validation/dogs/dog.1150.jpg is dog: 1\n",
            "data/validation/dogs/dog.1357.jpg is dog: 1\n",
            "data/validation/dogs/dog.1084.jpg is dog: 1\n",
            "data/validation/dogs/dog.1290.jpg is dog: 1\n",
            "data/validation/dogs/dog.1311.jpg is dog: 1\n",
            "data/validation/dogs/dog.1315.jpg is dog: 1\n",
            "data/validation/dogs/dog.1117.jpg is dog: 1\n",
            "data/validation/dogs/dog.1362.jpg is dog: 1\n",
            "data/validation/dogs/dog.1179.jpg is dog: 1\n",
            "data/validation/dogs/dog.1202.jpg is dog: 1\n",
            "data/validation/dogs/dog.1050.jpg is dog: 1\n",
            "data/validation/dogs/dog.1044.jpg is dog: 1\n",
            "data/validation/dogs/dog.1177.jpg is dog: 1\n",
            "data/validation/dogs/dog.1289.jpg is dog: 1\n",
            "data/validation/dogs/dog.1354.jpg is dog: 1\n",
            "data/validation/dogs/dog.1320.jpg is dog: 1\n",
            "data/validation/dogs/dog.1348.jpg is dog: 1\n",
            "data/validation/dogs/dog.1318.jpg is dog: 1\n",
            "data/validation/dogs/dog.1158.jpg is dog: 1\n",
            "data/validation/dogs/dog.1280.jpg is dog: 1\n",
            "data/validation/dogs/dog.1274.jpg is dog: 1\n",
            "data/validation/dogs/dog.1017.jpg is dog: 1\n",
            "data/validation/dogs/dog.1304.jpg is dog: 1\n",
            "data/validation/dogs/dog.1053.jpg is dog: 1\n",
            "data/validation/dogs/dog.1015.jpg is dog: 1\n",
            "data/validation/dogs/dog.1230.jpg is dog: 1\n",
            "data/validation/dogs/dog.1185.jpg is dog: 1\n",
            "data/validation/dogs/dog.1218.jpg is dog: 1\n",
            "data/validation/dogs/dog.1353.jpg is dog: 1\n",
            "data/validation/dogs/dog.1346.jpg is dog: 1\n",
            "data/validation/dogs/dog.1242.jpg is dog: 1\n",
            "data/validation/dogs/dog.1002.jpg is dog: 1\n",
            "data/validation/dogs/dog.1106.jpg is dog: 1\n",
            "data/validation/dogs/dog.1133.jpg is dog: 1\n",
            "data/validation/dogs/dog.1241.jpg is dog: 1\n",
            "data/validation/dogs/dog.1149.jpg is dog: 1\n",
            "data/validation/dogs/dog.1101.jpg is dog: 1\n",
            "data/validation/dogs/dog.1102.jpg is dog: 1\n",
            "data/validation/dogs/dog.1256.jpg is dog: 1\n",
            "data/validation/dogs/dog.1077.jpg is dog: 1\n",
            "data/validation/dogs/dog.1180.jpg is dog: 1\n",
            "data/validation/dogs/dog.1302.jpg is dog: 1\n",
            "data/validation/dogs/dog.1006.jpg is dog: 1\n",
            "data/validation/dogs/dog.1360.jpg is dog: 1\n",
            "data/validation/dogs/dog.1301.jpg is dog: 1\n",
            "data/validation/dogs/dog.1038.jpg is dog: 1\n",
            "data/validation/dogs/dog.1244.jpg is dog: 1\n",
            "data/validation/dogs/dog.1379.jpg is dog: 1\n",
            "data/validation/dogs/dog.1078.jpg is dog: 1\n",
            "data/validation/dogs/dog.1293.jpg is dog: 1\n",
            "data/validation/dogs/dog.1330.jpg is dog: 1\n",
            "data/validation/dogs/dog.1004.jpg is dog: 1\n",
            "data/validation/dogs/dog.1032.jpg is dog: 1\n",
            "data/validation/dogs/dog.1279.jpg is dog: 1\n",
            "data/validation/dogs/dog.1033.jpg is dog: 1\n",
            "data/validation/dogs/dog.1366.jpg is dog: 1\n",
            "data/validation/dogs/dog.1198.jpg is dog: 1\n",
            "data/validation/dogs/dog.1306.jpg is dog: 1\n",
            "data/validation/dogs/dog.1091.jpg is dog: 1\n",
            "data/validation/dogs/dog.1347.jpg is dog: 1\n",
            "data/validation/dogs/dog.1085.jpg is dog: 1\n",
            "data/validation/dogs/dog.1267.jpg is dog: 1\n",
            "data/validation/dogs/dog.1372.jpg is dog: 1\n",
            "data/validation/dogs/dog.1011.jpg is dog: 1\n",
            "data/validation/dogs/dog.1081.jpg is dog: 1\n",
            "data/validation/dogs/dog.1040.jpg is dog: 1\n",
            "data/validation/dogs/dog.1214.jpg is dog: 1\n",
            "data/validation/dogs/dog.1238.jpg is dog: 1\n",
            "data/validation/dogs/dog.1281.jpg is dog: 1\n",
            "data/validation/dogs/dog.1186.jpg is dog: 1\n",
            "data/validation/dogs/dog.1001.jpg is dog: 1\n",
            "data/validation/dogs/dog.1153.jpg is dog: 1\n",
            "data/validation/dogs/dog.1381.jpg is dog: 1\n",
            "data/validation/dogs/dog.1340.jpg is dog: 1\n",
            "data/validation/dogs/dog.1234.jpg is dog: 1\n",
            "data/validation/dogs/dog.1329.jpg is dog: 1\n",
            "data/validation/dogs/dog.1210.jpg is dog: 1\n",
            "data/validation/dogs/dog.1060.jpg is dog: 1\n",
            "data/validation/dogs/dog.1137.jpg is dog: 1\n",
            "data/validation/dogs/dog.1022.jpg is dog: 1\n",
            "data/validation/dogs/dog.1271.jpg is dog: 1\n",
            "data/validation/dogs/dog.1169.jpg is dog: 1\n",
            "data/validation/dogs/dog.1088.jpg is dog: 1\n",
            "data/validation/dogs/dog.1131.jpg is dog: 1\n",
            "data/validation/dogs/dog.1249.jpg is dog: 1\n",
            "data/validation/dogs/dog.1107.jpg is dog: 1\n",
            "data/validation/dogs/dog.1021.jpg is dog: 1\n",
            "data/validation/dogs/dog.1093.jpg is dog: 1\n",
            "data/validation/dogs/dog.1008.jpg is dog: 1\n",
            "data/validation/dogs/dog.1000.jpg is dog: 1\n",
            "data/validation/dogs/dog.1183.jpg is dog: 1\n",
            "data/validation/dogs/dog.1118.jpg is dog: 1\n",
            "data/validation/dogs/dog.1056.jpg is dog: 1\n",
            "data/validation/dogs/dog.1338.jpg is dog: 1\n",
            "data/validation/dogs/dog.1222.jpg is dog: 1\n",
            "data/validation/dogs/dog.1208.jpg is dog: 1\n",
            "data/validation/dogs/dog.1229.jpg is dog: 1\n",
            "data/validation/dogs/dog.1393.jpg is dog: 1\n",
            "data/validation/dogs/dog.1333.jpg is dog: 1\n",
            "data/validation/dogs/dog.1173.jpg is dog: 1\n",
            "data/validation/dogs/dog.1263.jpg is dog: 1\n",
            "data/validation/dogs/dog.1216.jpg is dog: 1\n",
            "data/validation/dogs/dog.1083.jpg is dog: 1\n",
            "data/validation/dogs/dog.1016.jpg is dog: 1\n",
            "data/validation/dogs/dog.1092.jpg is dog: 1\n",
            "data/validation/dogs/dog.1200.jpg is dog: 1\n",
            "data/validation/dogs/dog.1192.jpg is dog: 1\n",
            "data/validation/dogs/dog.1272.jpg is dog: 1\n",
            "data/validation/dogs/dog.1205.jpg is dog: 1\n",
            "data/validation/dogs/dog.1250.jpg is dog: 1\n",
            "data/validation/dogs/dog.1115.jpg is dog: 1\n",
            "data/validation/dogs/dog.1337.jpg is dog: 1\n",
            "data/validation/dogs/dog.1231.jpg is dog: 1\n",
            "data/validation/dogs/dog.1251.jpg is dog: 1\n",
            "data/validation/dogs/dog.1140.jpg is dog: 1\n",
            "data/validation/dogs/dog.1028.jpg is dog: 1\n",
            "data/validation/dogs/dog.1284.jpg is dog: 1\n",
            "data/validation/dogs/dog.1370.jpg is dog: 1\n",
            "data/validation/dogs/dog.1167.jpg is dog: 1\n",
            "data/validation/dogs/dog.1225.jpg is dog: 1\n",
            "data/validation/dogs/dog.1352.jpg is dog: 1\n",
            "data/validation/dogs/dog.1190.jpg is dog: 1\n",
            "data/validation/dogs/dog.1361.jpg is dog: 1\n",
            "data/validation/dogs/dog.1025.jpg is dog: 1\n",
            "data/validation/dogs/dog.1103.jpg is dog: 1\n",
            "data/validation/dogs/dog.1397.jpg is dog: 1\n",
            "data/validation/dogs/dog.1224.jpg is dog: 1\n",
            "data/validation/dogs/dog.1212.jpg is dog: 1\n",
            "data/validation/dogs/dog.1061.jpg is dog: 1\n",
            "data/validation/dogs/dog.1195.jpg is dog: 1\n",
            "data/validation/dogs/dog.1375.jpg is dog: 1\n",
            "data/validation/dogs/dog.1390.jpg is dog: 1\n",
            "data/validation/dogs/dog.1254.jpg is dog: 1\n",
            "data/validation/dogs/dog.1086.jpg is dog: 1\n",
            "data/validation/dogs/dog.1314.jpg is dog: 1\n",
            "data/validation/dogs/dog.1355.jpg is dog: 1\n",
            "data/validation/dogs/dog.1273.jpg is dog: 1\n",
            "data/validation/dogs/dog.1209.jpg is dog: 1\n",
            "data/validation/dogs/dog.1172.jpg is dog: 1\n",
            "data/validation/dogs/dog.1108.jpg is dog: 1\n",
            "data/validation/dogs/dog.1134.jpg is dog: 1\n",
            "data/validation/dogs/dog.1024.jpg is dog: 1\n",
            "data/validation/dogs/dog.1243.jpg is dog: 1\n",
            "data/validation/dogs/dog.1358.jpg is dog: 1\n",
            "data/validation/dogs/dog.1112.jpg is dog: 1\n",
            "data/validation/dogs/dog.1055.jpg is dog: 1\n",
            "data/validation/dogs/dog.1105.jpg is dog: 1\n",
            "data/validation/dogs/dog.1343.jpg is dog: 1\n",
            "data/validation/dogs/dog.1005.jpg is dog: 1\n",
            "data/validation/dogs/dog.1367.jpg is dog: 1\n",
            "data/validation/cats/cat.1191.jpg is dog: 0\n",
            "data/validation/cats/cat.1164.jpg is dog: 0\n",
            "data/validation/cats/cat.1344.jpg is dog: 0\n",
            "data/validation/cats/cat.1243.jpg is dog: 0\n",
            "data/validation/cats/cat.1042.jpg is dog: 0\n",
            "data/validation/cats/cat.1155.jpg is dog: 0\n",
            "data/validation/cats/cat.1033.jpg is dog: 0\n",
            "data/validation/cats/cat.1209.jpg is dog: 0\n",
            "data/validation/cats/cat.1310.jpg is dog: 0\n",
            "data/validation/cats/cat.1059.jpg is dog: 0\n",
            "data/validation/cats/cat.1170.jpg is dog: 0\n",
            "data/validation/cats/cat.1303.jpg is dog: 0\n",
            "data/validation/cats/cat.1040.jpg is dog: 0\n",
            "data/validation/cats/cat.1106.jpg is dog: 0\n",
            "data/validation/cats/cat.1337.jpg is dog: 0\n",
            "data/validation/cats/cat.1341.jpg is dog: 0\n",
            "data/validation/cats/cat.1061.jpg is dog: 0\n",
            "data/validation/cats/cat.1179.jpg is dog: 0\n",
            "data/validation/cats/cat.1291.jpg is dog: 0\n",
            "data/validation/cats/cat.1331.jpg is dog: 0\n",
            "data/validation/cats/cat.1367.jpg is dog: 0\n",
            "data/validation/cats/cat.1082.jpg is dog: 0\n",
            "data/validation/cats/cat.1334.jpg is dog: 0\n",
            "data/validation/cats/cat.1290.jpg is dog: 0\n",
            "data/validation/cats/cat.1095.jpg is dog: 0\n",
            "data/validation/cats/cat.1322.jpg is dog: 0\n",
            "data/validation/cats/cat.1101.jpg is dog: 0\n",
            "data/validation/cats/cat.1193.jpg is dog: 0\n",
            "data/validation/cats/cat.1077.jpg is dog: 0\n",
            "data/validation/cats/cat.1078.jpg is dog: 0\n",
            "data/validation/cats/cat.1346.jpg is dog: 0\n",
            "data/validation/cats/cat.1027.jpg is dog: 0\n",
            "data/validation/cats/cat.1357.jpg is dog: 0\n",
            "data/validation/cats/cat.1139.jpg is dog: 0\n",
            "data/validation/cats/cat.1226.jpg is dog: 0\n",
            "data/validation/cats/cat.1208.jpg is dog: 0\n",
            "data/validation/cats/cat.1232.jpg is dog: 0\n",
            "data/validation/cats/cat.1343.jpg is dog: 0\n",
            "data/validation/cats/cat.1373.jpg is dog: 0\n",
            "data/validation/cats/cat.1300.jpg is dog: 0\n",
            "data/validation/cats/cat.1221.jpg is dog: 0\n",
            "data/validation/cats/cat.1309.jpg is dog: 0\n",
            "data/validation/cats/cat.1187.jpg is dog: 0\n",
            "data/validation/cats/cat.1071.jpg is dog: 0\n",
            "data/validation/cats/cat.1134.jpg is dog: 0\n",
            "data/validation/cats/cat.1384.jpg is dog: 0\n",
            "data/validation/cats/cat.1166.jpg is dog: 0\n",
            "data/validation/cats/cat.1141.jpg is dog: 0\n",
            "data/validation/cats/cat.1361.jpg is dog: 0\n",
            "data/validation/cats/cat.1080.jpg is dog: 0\n",
            "data/validation/cats/cat.1019.jpg is dog: 0\n",
            "data/validation/cats/cat.1175.jpg is dog: 0\n",
            "data/validation/cats/cat.1237.jpg is dog: 0\n",
            "data/validation/cats/cat.1177.jpg is dog: 0\n",
            "data/validation/cats/cat.1048.jpg is dog: 0\n",
            "data/validation/cats/cat.1225.jpg is dog: 0\n",
            "data/validation/cats/cat.1295.jpg is dog: 0\n",
            "data/validation/cats/cat.1070.jpg is dog: 0\n",
            "data/validation/cats/cat.1188.jpg is dog: 0\n",
            "data/validation/cats/cat.1085.jpg is dog: 0\n",
            "data/validation/cats/cat.1245.jpg is dog: 0\n",
            "data/validation/cats/cat.1025.jpg is dog: 0\n",
            "data/validation/cats/cat.1176.jpg is dog: 0\n",
            "data/validation/cats/cat.1016.jpg is dog: 0\n",
            "data/validation/cats/cat.1229.jpg is dog: 0\n",
            "data/validation/cats/cat.1083.jpg is dog: 0\n",
            "data/validation/cats/cat.1073.jpg is dog: 0\n",
            "data/validation/cats/cat.1276.jpg is dog: 0\n",
            "data/validation/cats/cat.1041.jpg is dog: 0\n",
            "data/validation/cats/cat.1129.jpg is dog: 0\n",
            "data/validation/cats/cat.1009.jpg is dog: 0\n",
            "data/validation/cats/cat.1387.jpg is dog: 0\n",
            "data/validation/cats/cat.1075.jpg is dog: 0\n",
            "data/validation/cats/cat.1380.jpg is dog: 0\n",
            "data/validation/cats/cat.1389.jpg is dog: 0\n",
            "data/validation/cats/cat.1204.jpg is dog: 0\n",
            "data/validation/cats/cat.1273.jpg is dog: 0\n",
            "data/validation/cats/cat.1090.jpg is dog: 0\n",
            "data/validation/cats/cat.1286.jpg is dog: 0\n",
            "data/validation/cats/cat.1121.jpg is dog: 0\n",
            "data/validation/cats/cat.1246.jpg is dog: 0\n",
            "data/validation/cats/cat.1030.jpg is dog: 0\n",
            "data/validation/cats/cat.1000.jpg is dog: 0\n",
            "data/validation/cats/cat.1054.jpg is dog: 0\n",
            "data/validation/cats/cat.1118.jpg is dog: 0\n",
            "data/validation/cats/cat.1364.jpg is dog: 0\n",
            "data/validation/cats/cat.1180.jpg is dog: 0\n",
            "data/validation/cats/cat.1140.jpg is dog: 0\n",
            "data/validation/cats/cat.1012.jpg is dog: 0\n",
            "data/validation/cats/cat.1242.jpg is dog: 0\n",
            "data/validation/cats/cat.1035.jpg is dog: 0\n",
            "data/validation/cats/cat.1391.jpg is dog: 0\n",
            "data/validation/cats/cat.1004.jpg is dog: 0\n",
            "data/validation/cats/cat.1302.jpg is dog: 0\n",
            "data/validation/cats/cat.1326.jpg is dog: 0\n",
            "data/validation/cats/cat.1347.jpg is dog: 0\n",
            "data/validation/cats/cat.1034.jpg is dog: 0\n",
            "data/validation/cats/cat.1168.jpg is dog: 0\n",
            "data/validation/cats/cat.1336.jpg is dog: 0\n",
            "data/validation/cats/cat.1178.jpg is dog: 0\n",
            "data/validation/cats/cat.1036.jpg is dog: 0\n",
            "data/validation/cats/cat.1218.jpg is dog: 0\n",
            "data/validation/cats/cat.1072.jpg is dog: 0\n",
            "data/validation/cats/cat.1332.jpg is dog: 0\n",
            "data/validation/cats/cat.1360.jpg is dog: 0\n",
            "data/validation/cats/cat.1316.jpg is dog: 0\n",
            "data/validation/cats/cat.1053.jpg is dog: 0\n",
            "data/validation/cats/cat.1254.jpg is dog: 0\n",
            "data/validation/cats/cat.1394.jpg is dog: 0\n",
            "data/validation/cats/cat.1038.jpg is dog: 0\n",
            "data/validation/cats/cat.1265.jpg is dog: 0\n",
            "data/validation/cats/cat.1213.jpg is dog: 0\n",
            "data/validation/cats/cat.1109.jpg is dog: 0\n",
            "data/validation/cats/cat.1368.jpg is dog: 0\n",
            "data/validation/cats/cat.1241.jpg is dog: 0\n",
            "data/validation/cats/cat.1163.jpg is dog: 0\n",
            "data/validation/cats/cat.1173.jpg is dog: 0\n",
            "data/validation/cats/cat.1086.jpg is dog: 0\n",
            "data/validation/cats/cat.1271.jpg is dog: 0\n",
            "data/validation/cats/cat.1395.jpg is dog: 0\n",
            "data/validation/cats/cat.1147.jpg is dog: 0\n",
            "data/validation/cats/cat.1305.jpg is dog: 0\n",
            "data/validation/cats/cat.1259.jpg is dog: 0\n",
            "data/validation/cats/cat.1007.jpg is dog: 0\n",
            "data/validation/cats/cat.1281.jpg is dog: 0\n",
            "data/validation/cats/cat.1064.jpg is dog: 0\n",
            "data/validation/cats/cat.1096.jpg is dog: 0\n",
            "data/validation/cats/cat.1256.jpg is dog: 0\n",
            "data/validation/cats/cat.1006.jpg is dog: 0\n",
            "data/validation/cats/cat.1210.jpg is dog: 0\n",
            "data/validation/cats/cat.1386.jpg is dog: 0\n",
            "data/validation/cats/cat.1091.jpg is dog: 0\n",
            "data/validation/cats/cat.1020.jpg is dog: 0\n",
            "data/validation/cats/cat.1098.jpg is dog: 0\n",
            "data/validation/cats/cat.1285.jpg is dog: 0\n",
            "data/validation/cats/cat.1002.jpg is dog: 0\n",
            "data/validation/cats/cat.1131.jpg is dog: 0\n",
            "data/validation/cats/cat.1051.jpg is dog: 0\n",
            "data/validation/cats/cat.1024.jpg is dog: 0\n",
            "data/validation/cats/cat.1133.jpg is dog: 0\n",
            "data/validation/cats/cat.1105.jpg is dog: 0\n",
            "data/validation/cats/cat.1097.jpg is dog: 0\n",
            "data/validation/cats/cat.1047.jpg is dog: 0\n",
            "data/validation/cats/cat.1194.jpg is dog: 0\n",
            "data/validation/cats/cat.1120.jpg is dog: 0\n",
            "data/validation/cats/cat.1366.jpg is dog: 0\n",
            "data/validation/cats/cat.1235.jpg is dog: 0\n",
            "data/validation/cats/cat.1359.jpg is dog: 0\n",
            "data/validation/cats/cat.1234.jpg is dog: 0\n",
            "data/validation/cats/cat.1247.jpg is dog: 0\n",
            "data/validation/cats/cat.1108.jpg is dog: 0\n",
            "data/validation/cats/cat.1014.jpg is dog: 0\n",
            "data/validation/cats/cat.1379.jpg is dog: 0\n",
            "data/validation/cats/cat.1283.jpg is dog: 0\n",
            "data/validation/cats/cat.1388.jpg is dog: 0\n",
            "data/validation/cats/cat.1144.jpg is dog: 0\n",
            "data/validation/cats/cat.1104.jpg is dog: 0\n",
            "data/validation/cats/cat.1314.jpg is dog: 0\n",
            "data/validation/cats/cat.1215.jpg is dog: 0\n",
            "data/validation/cats/cat.1160.jpg is dog: 0\n",
            "data/validation/cats/cat.1057.jpg is dog: 0\n",
            "data/validation/cats/cat.1377.jpg is dog: 0\n",
            "data/validation/cats/cat.1320.jpg is dog: 0\n",
            "data/validation/cats/cat.1081.jpg is dog: 0\n",
            "data/validation/cats/cat.1356.jpg is dog: 0\n",
            "data/validation/cats/cat.1350.jpg is dog: 0\n",
            "data/validation/cats/cat.1340.jpg is dog: 0\n",
            "data/validation/cats/cat.1149.jpg is dog: 0\n",
            "data/validation/cats/cat.1381.jpg is dog: 0\n",
            "data/validation/cats/cat.1060.jpg is dog: 0\n",
            "data/validation/cats/cat.1369.jpg is dog: 0\n",
            "data/validation/cats/cat.1112.jpg is dog: 0\n",
            "data/validation/cats/cat.1119.jpg is dog: 0\n",
            "data/validation/cats/cat.1171.jpg is dog: 0\n",
            "data/validation/cats/cat.1011.jpg is dog: 0\n",
            "data/validation/cats/cat.1239.jpg is dog: 0\n",
            "data/validation/cats/cat.1184.jpg is dog: 0\n",
            "data/validation/cats/cat.1217.jpg is dog: 0\n",
            "data/validation/cats/cat.1190.jpg is dog: 0\n",
            "data/validation/cats/cat.1342.jpg is dog: 0\n",
            "data/validation/cats/cat.1127.jpg is dog: 0\n",
            "data/validation/cats/cat.1214.jpg is dog: 0\n",
            "data/validation/cats/cat.1079.jpg is dog: 0\n",
            "data/validation/cats/cat.1220.jpg is dog: 0\n",
            "data/validation/cats/cat.1399.jpg is dog: 0\n",
            "data/validation/cats/cat.1354.jpg is dog: 0\n",
            "data/validation/cats/cat.1313.jpg is dog: 0\n",
            "data/validation/cats/cat.1315.jpg is dog: 0\n",
            "data/validation/cats/cat.1324.jpg is dog: 0\n",
            "data/validation/cats/cat.1349.jpg is dog: 0\n",
            "data/validation/cats/cat.1393.jpg is dog: 0\n",
            "data/validation/cats/cat.1370.jpg is dog: 0\n",
            "data/validation/cats/cat.1092.jpg is dog: 0\n",
            "data/validation/cats/cat.1288.jpg is dog: 0\n",
            "data/validation/cats/cat.1238.jpg is dog: 0\n",
            "data/validation/cats/cat.1231.jpg is dog: 0\n",
            "data/validation/cats/cat.1284.jpg is dog: 0\n",
            "data/validation/cats/cat.1111.jpg is dog: 0\n",
            "data/validation/cats/cat.1312.jpg is dog: 0\n",
            "data/validation/cats/cat.1181.jpg is dog: 0\n",
            "data/validation/cats/cat.1196.jpg is dog: 0\n",
            "data/validation/cats/cat.1021.jpg is dog: 0\n",
            "data/validation/cats/cat.1397.jpg is dog: 0\n",
            "data/validation/cats/cat.1261.jpg is dog: 0\n",
            "data/validation/cats/cat.1150.jpg is dog: 0\n",
            "data/validation/cats/cat.1362.jpg is dog: 0\n",
            "data/validation/cats/cat.1103.jpg is dog: 0\n",
            "data/validation/cats/cat.1100.jpg is dog: 0\n",
            "data/validation/cats/cat.1325.jpg is dog: 0\n",
            "data/validation/cats/cat.1275.jpg is dog: 0\n",
            "data/validation/cats/cat.1372.jpg is dog: 0\n",
            "data/validation/cats/cat.1383.jpg is dog: 0\n",
            "data/validation/cats/cat.1385.jpg is dog: 0\n",
            "data/validation/cats/cat.1005.jpg is dog: 0\n",
            "data/validation/cats/cat.1262.jpg is dog: 0\n",
            "data/validation/cats/cat.1102.jpg is dog: 0\n",
            "data/validation/cats/cat.1201.jpg is dog: 0\n",
            "data/validation/cats/cat.1001.jpg is dog: 0\n",
            "data/validation/cats/cat.1137.jpg is dog: 0\n",
            "data/validation/cats/cat.1398.jpg is dog: 0\n",
            "data/validation/cats/cat.1167.jpg is dog: 0\n",
            "data/validation/cats/cat.1065.jpg is dog: 0\n",
            "data/validation/cats/cat.1304.jpg is dog: 0\n",
            "data/validation/cats/cat.1185.jpg is dog: 0\n",
            "data/validation/cats/cat.1203.jpg is dog: 0\n",
            "data/validation/cats/cat.1052.jpg is dog: 0\n",
            "data/validation/cats/cat.1028.jpg is dog: 0\n",
            "data/validation/cats/cat.1339.jpg is dog: 0\n",
            "data/validation/cats/cat.1117.jpg is dog: 0\n",
            "data/validation/cats/cat.1116.jpg is dog: 0\n",
            "data/validation/cats/cat.1257.jpg is dog: 0\n",
            "data/validation/cats/cat.1056.jpg is dog: 0\n",
            "data/validation/cats/cat.1233.jpg is dog: 0\n",
            "data/validation/cats/cat.1376.jpg is dog: 0\n",
            "data/validation/cats/cat.1084.jpg is dog: 0\n",
            "data/validation/cats/cat.1026.jpg is dog: 0\n",
            "data/validation/cats/cat.1037.jpg is dog: 0\n",
            "data/validation/cats/cat.1008.jpg is dog: 0\n",
            "data/validation/cats/cat.1130.jpg is dog: 0\n",
            "data/validation/cats/cat.1148.jpg is dog: 0\n",
            "data/validation/cats/cat.1277.jpg is dog: 0\n",
            "data/validation/cats/cat.1146.jpg is dog: 0\n",
            "data/validation/cats/cat.1252.jpg is dog: 0\n",
            "data/validation/cats/cat.1169.jpg is dog: 0\n",
            "data/validation/cats/cat.1264.jpg is dog: 0\n",
            "data/validation/cats/cat.1022.jpg is dog: 0\n",
            "data/validation/cats/cat.1089.jpg is dog: 0\n",
            "data/validation/cats/cat.1375.jpg is dog: 0\n",
            "data/validation/cats/cat.1068.jpg is dog: 0\n",
            "data/validation/cats/cat.1138.jpg is dog: 0\n",
            "data/validation/cats/cat.1200.jpg is dog: 0\n",
            "data/validation/cats/cat.1294.jpg is dog: 0\n",
            "data/validation/cats/cat.1222.jpg is dog: 0\n",
            "data/validation/cats/cat.1236.jpg is dog: 0\n",
            "data/validation/cats/cat.1280.jpg is dog: 0\n",
            "data/validation/cats/cat.1161.jpg is dog: 0\n",
            "data/validation/cats/cat.1248.jpg is dog: 0\n",
            "data/validation/cats/cat.1318.jpg is dog: 0\n",
            "data/validation/cats/cat.1032.jpg is dog: 0\n",
            "data/validation/cats/cat.1211.jpg is dog: 0\n",
            "data/validation/cats/cat.1099.jpg is dog: 0\n",
            "data/validation/cats/cat.1216.jpg is dog: 0\n",
            "data/validation/cats/cat.1244.jpg is dog: 0\n",
            "data/validation/cats/cat.1197.jpg is dog: 0\n",
            "data/validation/cats/cat.1279.jpg is dog: 0\n",
            "data/validation/cats/cat.1063.jpg is dog: 0\n",
            "data/validation/cats/cat.1124.jpg is dog: 0\n",
            "data/validation/cats/cat.1223.jpg is dog: 0\n",
            "data/validation/cats/cat.1136.jpg is dog: 0\n",
            "data/validation/cats/cat.1143.jpg is dog: 0\n",
            "data/validation/cats/cat.1297.jpg is dog: 0\n",
            "data/validation/cats/cat.1093.jpg is dog: 0\n",
            "data/validation/cats/cat.1159.jpg is dog: 0\n",
            "data/validation/cats/cat.1365.jpg is dog: 0\n",
            "data/validation/cats/cat.1317.jpg is dog: 0\n",
            "data/validation/cats/cat.1122.jpg is dog: 0\n",
            "data/validation/cats/cat.1390.jpg is dog: 0\n",
            "data/validation/cats/cat.1076.jpg is dog: 0\n",
            "data/validation/cats/cat.1253.jpg is dog: 0\n",
            "data/validation/cats/cat.1293.jpg is dog: 0\n",
            "data/validation/cats/cat.1128.jpg is dog: 0\n",
            "data/validation/cats/cat.1392.jpg is dog: 0\n",
            "data/validation/cats/cat.1278.jpg is dog: 0\n",
            "data/validation/cats/cat.1212.jpg is dog: 0\n",
            "data/validation/cats/cat.1353.jpg is dog: 0\n",
            "data/validation/cats/cat.1219.jpg is dog: 0\n",
            "data/validation/cats/cat.1228.jpg is dog: 0\n",
            "data/validation/cats/cat.1263.jpg is dog: 0\n",
            "data/validation/cats/cat.1114.jpg is dog: 0\n",
            "data/validation/cats/cat.1186.jpg is dog: 0\n",
            "data/validation/cats/cat.1062.jpg is dog: 0\n",
            "data/validation/cats/cat.1003.jpg is dog: 0\n",
            "data/validation/cats/cat.1319.jpg is dog: 0\n",
            "data/validation/cats/cat.1348.jpg is dog: 0\n",
            "data/validation/cats/cat.1308.jpg is dog: 0\n",
            "data/validation/cats/cat.1125.jpg is dog: 0\n",
            "data/validation/cats/cat.1307.jpg is dog: 0\n",
            "data/validation/cats/cat.1013.jpg is dog: 0\n",
            "data/validation/cats/cat.1321.jpg is dog: 0\n",
            "data/validation/cats/cat.1258.jpg is dog: 0\n",
            "data/validation/cats/cat.1107.jpg is dog: 0\n",
            "data/validation/cats/cat.1311.jpg is dog: 0\n",
            "data/validation/cats/cat.1017.jpg is dog: 0\n",
            "data/validation/cats/cat.1069.jpg is dog: 0\n",
            "data/validation/cats/cat.1157.jpg is dog: 0\n",
            "data/validation/cats/cat.1145.jpg is dog: 0\n",
            "data/validation/cats/cat.1151.jpg is dog: 0\n",
            "data/validation/cats/cat.1272.jpg is dog: 0\n",
            "data/validation/cats/cat.1165.jpg is dog: 0\n",
            "data/validation/cats/cat.1074.jpg is dog: 0\n",
            "data/validation/cats/cat.1207.jpg is dog: 0\n",
            "data/validation/cats/cat.1142.jpg is dog: 0\n",
            "data/validation/cats/cat.1328.jpg is dog: 0\n",
            "data/validation/cats/cat.1135.jpg is dog: 0\n",
            "data/validation/cats/cat.1274.jpg is dog: 0\n",
            "data/validation/cats/cat.1323.jpg is dog: 0\n",
            "data/validation/cats/cat.1382.jpg is dog: 0\n",
            "data/validation/cats/cat.1018.jpg is dog: 0\n",
            "data/validation/cats/cat.1126.jpg is dog: 0\n",
            "data/validation/cats/cat.1195.jpg is dog: 0\n",
            "data/validation/cats/cat.1058.jpg is dog: 0\n",
            "data/validation/cats/cat.1329.jpg is dog: 0\n",
            "data/validation/cats/cat.1154.jpg is dog: 0\n",
            "data/validation/cats/cat.1152.jpg is dog: 0\n",
            "data/validation/cats/cat.1396.jpg is dog: 0\n",
            "data/validation/cats/cat.1045.jpg is dog: 0\n",
            "data/validation/cats/cat.1113.jpg is dog: 0\n",
            "data/validation/cats/cat.1067.jpg is dog: 0\n",
            "data/validation/cats/cat.1205.jpg is dog: 0\n",
            "data/validation/cats/cat.1287.jpg is dog: 0\n",
            "data/validation/cats/cat.1270.jpg is dog: 0\n",
            "data/validation/cats/cat.1162.jpg is dog: 0\n",
            "data/validation/cats/cat.1039.jpg is dog: 0\n",
            "data/validation/cats/cat.1260.jpg is dog: 0\n",
            "data/validation/cats/cat.1087.jpg is dog: 0\n",
            "data/validation/cats/cat.1296.jpg is dog: 0\n",
            "data/validation/cats/cat.1363.jpg is dog: 0\n",
            "data/validation/cats/cat.1338.jpg is dog: 0\n",
            "data/validation/cats/cat.1374.jpg is dog: 0\n",
            "data/validation/cats/cat.1371.jpg is dog: 0\n",
            "data/validation/cats/cat.1355.jpg is dog: 0\n",
            "data/validation/cats/cat.1044.jpg is dog: 0\n",
            "data/validation/cats/cat.1289.jpg is dog: 0\n",
            "data/validation/cats/cat.1182.jpg is dog: 0\n",
            "data/validation/cats/cat.1046.jpg is dog: 0\n",
            "data/validation/cats/cat.1282.jpg is dog: 0\n",
            "data/validation/cats/cat.1224.jpg is dog: 0\n",
            "data/validation/cats/cat.1123.jpg is dog: 0\n",
            "data/validation/cats/cat.1299.jpg is dog: 0\n",
            "data/validation/cats/cat.1333.jpg is dog: 0\n",
            "data/validation/cats/cat.1010.jpg is dog: 0\n",
            "data/validation/cats/cat.1156.jpg is dog: 0\n",
            "data/validation/cats/cat.1227.jpg is dog: 0\n",
            "data/validation/cats/cat.1132.jpg is dog: 0\n",
            "data/validation/cats/cat.1306.jpg is dog: 0\n",
            "data/validation/cats/cat.1153.jpg is dog: 0\n",
            "data/validation/cats/cat.1358.jpg is dog: 0\n",
            "data/validation/cats/cat.1206.jpg is dog: 0\n",
            "data/validation/cats/cat.1267.jpg is dog: 0\n",
            "data/validation/cats/cat.1301.jpg is dog: 0\n",
            "data/validation/cats/cat.1335.jpg is dog: 0\n",
            "data/validation/cats/cat.1031.jpg is dog: 0\n",
            "data/validation/cats/cat.1023.jpg is dog: 0\n",
            "data/validation/cats/cat.1192.jpg is dog: 0\n",
            "data/validation/cats/cat.1066.jpg is dog: 0\n",
            "data/validation/cats/cat.1345.jpg is dog: 0\n",
            "data/validation/cats/cat.1015.jpg is dog: 0\n",
            "data/validation/cats/cat.1255.jpg is dog: 0\n",
            "data/validation/cats/cat.1268.jpg is dog: 0\n",
            "data/validation/cats/cat.1240.jpg is dog: 0\n",
            "data/validation/cats/cat.1050.jpg is dog: 0\n",
            "data/validation/cats/cat.1250.jpg is dog: 0\n",
            "data/validation/cats/cat.1327.jpg is dog: 0\n",
            "data/validation/cats/cat.1183.jpg is dog: 0\n",
            "data/validation/cats/cat.1043.jpg is dog: 0\n",
            "data/validation/cats/cat.1251.jpg is dog: 0\n",
            "data/validation/cats/cat.1330.jpg is dog: 0\n",
            "data/validation/cats/cat.1292.jpg is dog: 0\n",
            "data/validation/cats/cat.1266.jpg is dog: 0\n",
            "data/validation/cats/cat.1094.jpg is dog: 0\n",
            "data/validation/cats/cat.1172.jpg is dog: 0\n",
            "data/validation/cats/cat.1049.jpg is dog: 0\n",
            "data/validation/cats/cat.1189.jpg is dog: 0\n",
            "data/validation/cats/cat.1298.jpg is dog: 0\n",
            "data/validation/cats/cat.1198.jpg is dog: 0\n",
            "data/validation/cats/cat.1352.jpg is dog: 0\n",
            "data/validation/cats/cat.1230.jpg is dog: 0\n",
            "data/validation/cats/cat.1088.jpg is dog: 0\n",
            "data/validation/cats/cat.1158.jpg is dog: 0\n",
            "data/validation/cats/cat.1199.jpg is dog: 0\n",
            "data/validation/cats/cat.1249.jpg is dog: 0\n",
            "data/validation/cats/cat.1378.jpg is dog: 0\n",
            "data/validation/cats/cat.1202.jpg is dog: 0\n",
            "data/validation/cats/cat.1174.jpg is dog: 0\n",
            "data/validation/cats/cat.1029.jpg is dog: 0\n",
            "data/validation/cats/cat.1351.jpg is dog: 0\n",
            "data/validation/cats/cat.1055.jpg is dog: 0\n",
            "data/validation/cats/cat.1269.jpg is dog: 0\n",
            "data/validation/cats/cat.1110.jpg is dog: 0\n",
            "data/validation/cats/cat.1115.jpg is dog: 0\n"
          ],
          "name": "stdout"
        }
      ]
    },
    {
      "cell_type": "markdown",
      "metadata": {
        "id": "5sEtjA7pun3i",
        "colab_type": "text"
      },
      "source": [
        ""
      ]
    },
    {
      "cell_type": "code",
      "metadata": {
        "id": "_5p3vvGSunlX",
        "colab_type": "code",
        "colab": {}
      },
      "source": [
        "vgg16_cm = skmetrics.confusion_matrix(targetcls, vgg16_predcls)\n",
        "vgg16_cm\n",
        "resnet50_cm = skmetrics.confusion_matrix(targetcls, resnet50_predcls)\n",
        "resnet50_cm"
      ],
      "execution_count": 0,
      "outputs": []
    },
    {
      "cell_type": "code",
      "metadata": {
        "id": "cF0fa_RB3Slc",
        "colab_type": "code",
        "outputId": "6d5f81ca-7a01-43bd-f0b5-20ce52b6a674",
        "colab": {
          "base_uri": "https://localhost:8080/",
          "height": 106
        }
      },
      "source": [
        "predcls = []\n",
        "PREDICTION_CUTOFF = 0.5\n",
        "#WARNING: we are abusing the validation generator here\n",
        "#It would be more correct to simply read all the images from the appropriate folders\n",
        "#Remember: Dog is 1, cat is 0\n",
        "for i in range(0, EPOCHS):\n",
        "    X_image_batch, y_actual_values = next(validation_generator)\n",
        "    for y in y_actual_values:\n",
        "        targetcls.append(y)\n",
        "    for x in vgg16_model.predict(X_image_batch):\n",
        "        if (x >= PREDICTION_CUTOFF):\n",
        "            predcls.append(1)\n",
        "        else:\n",
        "            predcls.append(0)\n",
        "    \n",
        "print(targetcls)\n",
        "print(predcls)\n",
        "cm = skmetrics.confusion_matrix(targetcls, predcls)\n",
        "cm"
      ],
      "execution_count": 0,
      "outputs": [
        {
          "output_type": "stream",
          "text": [
            "[1.0, 0.0, 0.0, 0.0, 1.0, 1.0, 0.0, 1.0, 1.0, 1.0, 1.0, 1.0, 1.0, 0.0, 1.0, 0.0, 1.0, 0.0, 0.0, 1.0, 0.0, 1.0, 0.0, 1.0, 1.0, 0.0, 1.0, 1.0, 1.0, 0.0, 1.0, 0.0, 1.0, 0.0, 0.0, 0.0, 0.0, 1.0, 1.0, 1.0, 1.0, 0.0, 0.0, 0.0, 0.0, 1.0, 0.0, 1.0, 0.0, 1.0, 1.0, 0.0, 0.0, 1.0, 1.0, 0.0, 1.0, 0.0, 0.0, 1.0, 0.0, 0.0, 0.0, 1.0, 1.0, 1.0, 1.0, 0.0, 0.0, 1.0, 1.0, 0.0, 1.0, 1.0, 0.0, 0.0, 1.0, 1.0, 0.0, 0.0, 1.0, 1.0, 1.0, 1.0, 1.0, 1.0, 0.0, 0.0, 1.0, 1.0, 0.0, 1.0, 1.0, 1.0, 1.0, 0.0, 0.0, 0.0, 1.0, 0.0, 1.0, 1.0, 1.0, 0.0, 1.0, 1.0, 1.0, 1.0, 0.0, 0.0, 0.0, 0.0, 0.0, 0.0, 0.0, 0.0, 0.0, 1.0, 1.0, 0.0, 0.0, 0.0, 1.0, 1.0, 1.0, 0.0, 1.0, 1.0, 0.0, 1.0, 1.0, 0.0, 0.0, 1.0, 0.0, 0.0, 1.0, 0.0, 0.0, 1.0, 0.0, 1.0, 1.0, 0.0, 1.0, 1.0, 0.0, 0.0, 1.0, 1.0, 0.0, 1.0, 1.0, 0.0, 1.0, 1.0, 0.0, 1.0, 0.0, 0.0]\n",
            "[1, 0, 0, 0, 1, 1, 0, 1, 1, 1, 0, 1, 1, 0, 1, 0, 1, 0, 0, 1, 0, 0, 0, 1, 1, 0, 1, 1, 1, 0, 1, 0, 1, 0, 0, 0, 0, 1, 1, 1, 1, 0, 0, 0, 0, 1, 0, 1, 0, 1, 1, 0, 0, 1, 1, 0, 0, 0, 0, 1, 0, 0, 0, 1, 1, 1, 1, 0, 0, 0, 1, 0, 1, 1, 0, 0, 1, 1, 0, 0, 0, 0, 0, 0, 1, 1, 0, 0, 1, 1, 0, 1, 1, 0, 1, 0, 0, 0, 1, 0, 0, 0, 1, 0, 1, 1, 1, 1, 0, 0, 0, 0, 0, 0, 0, 0, 0, 1, 1, 0, 1, 0, 1, 1, 1, 0, 1, 1, 0, 1, 1, 0, 0, 1, 0, 0, 1, 0, 0, 1, 0, 1, 0, 0, 1, 1, 0, 0, 1, 1, 0, 1, 1, 0, 0, 1, 0, 0, 0, 0]\n"
          ],
          "name": "stdout"
        },
        {
          "output_type": "execute_result",
          "data": {
            "text/plain": [
              "array([[74,  1],\n",
              "       [14, 71]])"
            ]
          },
          "metadata": {
            "tags": []
          },
          "execution_count": 23
        }
      ]
    },
    {
      "cell_type": "markdown",
      "metadata": {
        "id": "_TYJtLdYkMjQ",
        "colab_type": "text"
      },
      "source": [
        "Show the confusion matrix for ResNet-50\n",
        "```\n",
        "                      predicted\n",
        "                 0 (cat)    1 (dog)\n",
        "actual 0 (cat)\n",
        "       1 (dog)\n",
        "```"
      ]
    },
    {
      "cell_type": "code",
      "metadata": {
        "id": "O8HjPDF_kBuo",
        "colab_type": "code",
        "outputId": "7f2e9f02-fbde-4097-cbb1-d5982e9799a3",
        "colab": {
          "base_uri": "https://localhost:8080/",
          "height": 106
        }
      },
      "source": [
        "predcls = []\n",
        "targetcls = []\n",
        "PREDICTION_CUTOFF = 0.5\n",
        "#WARNING: we are abusing the validation generator here\n",
        "#It would be more correct to simply read all the images from the appropriate folders\n",
        "#Remember: Dog is 1, cat is 0\n",
        "for i in range(0, EPOCHS):\n",
        "    X_image_batch, y_actual_values = next(validation_generator)\n",
        "    for y in y_actual_values:\n",
        "        targetcls.append(y)\n",
        "    for x in resnet50_model.predict(X_image_batch):\n",
        "        if (x >= PREDICTION_CUTOFF):\n",
        "            predcls.append(1)\n",
        "        else:\n",
        "            predcls.append(0)\n",
        "    \n",
        "print(targetcls)\n",
        "print(predcls)\n",
        "cm = skmetrics.confusion_matrix(targetcls, predcls)\n",
        "cm"
      ],
      "execution_count": 0,
      "outputs": [
        {
          "output_type": "stream",
          "text": [
            "[0.0, 1.0, 0.0, 1.0, 0.0, 0.0, 0.0, 1.0, 1.0, 0.0, 1.0, 0.0, 0.0, 1.0, 0.0, 1.0, 0.0, 0.0, 1.0, 0.0, 0.0, 1.0, 1.0, 1.0, 1.0, 0.0, 0.0, 0.0, 0.0, 0.0, 1.0, 0.0, 0.0, 0.0, 1.0, 0.0, 1.0, 1.0, 0.0, 0.0, 1.0, 0.0, 1.0, 1.0, 0.0, 0.0, 0.0, 1.0, 0.0, 0.0, 0.0, 1.0, 1.0, 0.0, 0.0, 0.0, 1.0, 1.0, 1.0, 1.0, 1.0, 1.0, 0.0, 1.0, 1.0, 0.0, 0.0, 0.0, 1.0, 0.0, 0.0, 1.0, 0.0, 0.0, 0.0, 0.0, 0.0, 1.0, 0.0, 0.0, 1.0, 0.0, 0.0, 0.0, 0.0, 1.0, 1.0, 0.0, 0.0, 1.0, 0.0, 0.0, 0.0, 1.0, 0.0, 1.0, 0.0, 1.0, 0.0, 1.0, 1.0, 1.0, 0.0, 0.0, 1.0, 0.0, 1.0, 1.0, 1.0, 1.0, 0.0, 0.0, 1.0, 1.0, 0.0, 1.0, 1.0, 0.0, 1.0, 1.0, 1.0, 0.0, 0.0, 1.0, 1.0, 0.0, 0.0, 0.0, 1.0, 1.0, 1.0, 0.0, 1.0, 1.0, 0.0, 0.0, 0.0, 0.0, 0.0, 1.0, 1.0, 1.0, 1.0, 0.0, 1.0, 1.0, 0.0, 0.0, 0.0, 1.0, 0.0, 1.0, 1.0, 1.0, 1.0, 0.0, 1.0, 0.0, 0.0, 1.0]\n",
            "[1, 1, 1, 1, 1, 1, 1, 1, 1, 1, 0, 0, 0, 1, 0, 1, 0, 1, 1, 1, 1, 0, 1, 0, 1, 1, 1, 0, 1, 1, 1, 1, 0, 1, 0, 0, 1, 1, 0, 0, 1, 0, 1, 0, 0, 0, 1, 1, 1, 0, 0, 0, 1, 1, 1, 1, 0, 1, 1, 1, 1, 1, 1, 1, 0, 0, 0, 1, 1, 1, 0, 1, 0, 0, 0, 0, 1, 1, 0, 0, 1, 1, 0, 1, 1, 1, 1, 0, 0, 1, 0, 1, 1, 0, 1, 1, 1, 1, 1, 1, 0, 0, 0, 1, 1, 1, 1, 0, 1, 1, 1, 1, 1, 0, 1, 1, 1, 1, 0, 1, 1, 0, 1, 0, 1, 1, 1, 0, 1, 1, 1, 0, 1, 1, 0, 1, 0, 0, 0, 1, 1, 0, 0, 1, 1, 1, 0, 1, 0, 1, 0, 1, 1, 0, 1, 1, 1, 0, 0, 1]\n"
          ],
          "name": "stdout"
        },
        {
          "output_type": "execute_result",
          "data": {
            "text/plain": [
              "array([[40, 45],\n",
              "       [18, 57]])"
            ]
          },
          "metadata": {
            "tags": []
          },
          "execution_count": 24
        }
      ]
    },
    {
      "cell_type": "code",
      "metadata": {
        "id": "kIIxuhDGZvfZ",
        "colab_type": "code",
        "colab": {}
      },
      "source": [
        ""
      ],
      "execution_count": 0,
      "outputs": []
    }
  ]
}